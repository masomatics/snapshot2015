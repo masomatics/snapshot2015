{
 "cells": [
  {
   "cell_type": "code",
   "execution_count": 25,
   "metadata": {
    "collapsed": false
   },
   "outputs": [
    {
     "name": "stdout",
     "output_type": "stream",
     "text": [
      "Once deleted, variables cannot be recovered. Proceed (y/[n])? y\n"
     ]
    }
   ],
   "source": [
    "%reset"
   ]
  },
  {
   "cell_type": "code",
   "execution_count": 254,
   "metadata": {
    "collapsed": false
   },
   "outputs": [
    {
     "data": {
      "text/plain": [
       "<module 'Discrete_Doucet_system' from '/Users/markov/Dropbox/Research/OnGoing_Research/Snapshot/Python_experiment/source/Discrete_Doucet_system.py'>"
      ]
     },
     "execution_count": 254,
     "metadata": {},
     "output_type": "execute_result"
    }
   ],
   "source": [
    "import numpy as np\n",
    "import scipy as sp\n",
    "from matplotlib import pyplot as plt\n",
    "%matplotlib inline\n",
    "import sys\n",
    "sys.path.append(\"/Users/markov/Dropbox/Research/OnGoing_Research/Snapshot/Python_experiment/source\") \n",
    "import Discrete_Doucet_system\n",
    "reload(Discrete_Doucet_system)"
   ]
  },
  {
   "cell_type": "code",
   "execution_count": 255,
   "metadata": {
    "collapsed": false
   },
   "outputs": [
    {
     "data": {
      "text/plain": [
       "(array([  0. ,   0.5,  25. ,   6. ,   0.2]), array([ 3.16227766,  2.23606798]))"
      ]
     },
     "execution_count": 255,
     "metadata": {},
     "output_type": "execute_result"
    }
   ],
   "source": [
    "dsystem = Discrete_Doucet_system.Discrete_Doucet_system()\n",
    "dsystem.theta, dsystem.sigma\n"
   ]
  },
  {
   "cell_type": "code",
   "execution_count": 263,
   "metadata": {
    "collapsed": false
   },
   "outputs": [],
   "source": [
    "init = -1.5\n",
    "Nx0 = 30000\n",
    "\n",
    "x0 = np.array([init]*Nx0 )\n",
    "x0 = np.random.normal(init,  np.sqrt(5) , Nx0)"
   ]
  },
  {
   "cell_type": "code",
   "execution_count": 264,
   "metadata": {
    "collapsed": false
   },
   "outputs": [
    {
     "data": {
      "text/plain": [
       "array([  8.60296868,   4.62971853,  -8.67101405, ...,  -9.53560643,\n",
       "        18.3634384 ,  -0.10116048])"
      ]
     },
     "execution_count": 264,
     "metadata": {},
     "output_type": "execute_result"
    }
   ],
   "source": [
    "T = 12\n",
    "xnow = x0\n",
    "pnow = np.power(x0 - init,2)\n",
    "xmean = np.array([0.]*(T+1))\n",
    "xmean2 = np.array([0.]*(T+1))\n",
    "\n",
    "xmean[0] = np.mean(x0)\n",
    "xmean2[0] = np.mean(x0)\n",
    "\n",
    "\n",
    "for t  in range(1,T+1,1):\n",
    "    xnow, pnow = dsystem.update(xnow, pnow)\n",
    "    xmean[t] = np.mean(xnow)\n",
    "    xmean2[t] = np.mean(np.power(xnow,2))\n",
    "\n",
    "    \n",
    "simul  = Discrete_Doucet_system.Simulate(T = 12) \n",
    "powers = [1,2,3]\n",
    "mmts = simul.moment_history(dsystem, powers, Nx = Nx0)\n",
    "\n",
    "xnow"
   ]
  },
  {
   "cell_type": "code",
   "execution_count": 265,
   "metadata": {
    "collapsed": false
   },
   "outputs": [
    {
     "data": {
      "image/png": "[encoded data removed]",
      "text/plain": [
       "<matplotlib.figure.Figure at 0x106356550>"
      ]
     },
     "metadata": {},
     "output_type": "display_data"
    }
   ],
   "source": [
    "plt.subplot(1,2,0)\n",
    "xplot= plt.hist(xnow,bins=50, normed=True)"
   ]
  },
  {
   "cell_type": "code",
   "execution_count": 266,
   "metadata": {
    "collapsed": false
   },
   "outputs": [
    {
     "data": {
      "text/plain": [
       "[<matplotlib.lines.Line2D at 0x10b3b8c90>]"
      ]
     },
     "execution_count": 266,
     "metadata": {},
     "output_type": "execute_result"
    },
    {
     "data": {
      "image/png": "[encoded data removed]",
      "text/plain": [
       "<matplotlib.figure.Figure at 0x106d866d0>"
      ]
     },
     "metadata": {},
     "output_type": "display_data"
    }
   ],
   "source": [
    "plt.subplot(1,2,0)\n",
    "plt.plot(range(0,T+1,1), xmean)\n",
    "plt.plot(range(0,T+1,1), mmts[0])\n",
    "plt.subplot(1,2,1)\n",
    "plt.plot(range(0,T+1,1), xmean2)\n",
    "plt.plot(range(0,T+1,1), mmts[1])\n"
   ]
  },
  {
   "cell_type": "code",
   "execution_count": 267,
   "metadata": {
    "collapsed": false
   },
   "outputs": [
    {
     "data": {
      "text/plain": [
       "(array([[ -1.50362575e+00,   4.51396460e-01,  -1.32868537e+00,\n",
       "          -7.73318919e-01,  -1.21610200e+00,  -1.01804542e+00,\n",
       "          -1.28629725e+00,  -1.14195629e+00,  -1.22949306e+00,\n",
       "          -1.20321442e+00,  -1.26729709e+00,  -1.27346230e+00,\n",
       "          -1.26167790e+00],\n",
       "        [  7.23022099e+00,   9.16512397e+01,   6.35771478e+01,\n",
       "           8.42990727e+01,   8.32751358e+01,   9.34531843e+01,\n",
       "           9.40884320e+01,   1.00296674e+02,   1.02423110e+02,\n",
       "           1.04685247e+02,   1.05760839e+02,   1.06807564e+02,\n",
       "           1.07961746e+02],\n",
       "        [ -2.58415230e+01,   9.56489229e+02,   1.15281083e+02,\n",
       "           2.16450561e+02,  -2.04349634e+00,  -4.04733592e+00,\n",
       "          -1.25471943e+02,  -1.20083174e+02,  -1.67584060e+02,\n",
       "          -1.80039658e+02,  -2.18170859e+02,  -2.19589907e+02,\n",
       "          -2.29155124e+02]]),\n",
       " array([-1.50367701,  0.48407071, -1.31906832, -0.68284557, -1.21067398,\n",
       "        -0.99764801, -1.17397206, -1.0462031 , -1.17448948, -1.15803725,\n",
       "        -1.19368215, -1.1416644 , -1.16055732]))"
      ]
     },
     "execution_count": 267,
     "metadata": {},
     "output_type": "execute_result"
    }
   ],
   "source": [
    "mmts, xmean"
   ]
  },
  {
   "cell_type": "code",
   "execution_count": 281,
   "metadata": {
    "collapsed": false
   },
   "outputs": [],
   "source": [
    "Nx_obs = 30\n",
    "Nx_dat = 1000\n",
    "xobs = simul.simulate(dsystem, Nx = Nx_obs)\n",
    "xdat = simul.simulate(dsystem, Nx = Nx_dat)\n"
   ]
  },
  {
   "cell_type": "code",
   "execution_count": 282,
   "metadata": {
    "collapsed": false
   },
   "outputs": [
    {
     "data": {
      "text/plain": [
       "((30, 1000), (1000, 30))"
      ]
     },
     "execution_count": 282,
     "metadata": {},
     "output_type": "execute_result"
    }
   ],
   "source": [
    "xdatmat = np.matrix([list(xdat[0])] * Nx_obs)\n",
    "xobsmat = np.matrix([list(xobs[0])] * Nx_dat)\n",
    "xdatmat.shape, xobsmat.shape"
   ]
  },
  {
   "cell_type": "code",
   "execution_count": 283,
   "metadata": {
    "collapsed": false
   },
   "outputs": [],
   "source": [
    "diff = np.abs(xdatmat -np.transpose(xobsmat))\n",
    "diffsqr = np.power(diff, 2)"
   ]
  },
  {
   "cell_type": "code",
   "execution_count": 284,
   "metadata": {
    "collapsed": false
   },
   "outputs": [
    {
     "data": {
      "text/plain": [
       "(30, 1000)"
      ]
     },
     "execution_count": 284,
     "metadata": {},
     "output_type": "execute_result"
    }
   ],
   "source": [
    "diffsqr.shape"
   ]
  },
  {
   "cell_type": "code",
   "execution_count": 285,
   "metadata": {
    "collapsed": false
   },
   "outputs": [],
   "source": [
    "\n",
    "pyx = np.exp(-(diffsqr  - np.transpose(np.matrix([[np.min(row) for row in diffsqr]]*Nx_dat))))\n",
    "\n",
    "\n",
    "pyxm = np.matrix([row/np.sum(row) for row in pyx.tolist()])\n",
    "px_new = np.array(np.sum(pyxm, 0))[0] \n",
    "px_new = px_new / sum(px_new)"
   ]
  },
  {
   "cell_type": "code",
   "execution_count": 286,
   "metadata": {
    "collapsed": false
   },
   "outputs": [],
   "source": [
    "Nx_resample = 500000\n",
    "sample = np.random.multinomial(Nx_resample, px_new)"
   ]
  },
  {
   "cell_type": "code",
   "execution_count": 287,
   "metadata": {
    "collapsed": false
   },
   "outputs": [
    {
     "data": {
      "text/plain": [
       "(0.00099999999999999872,\n",
       " 3.7091711935738032e-07,\n",
       " 500.0,\n",
       " 93761.043999999994,\n",
       " 500000)"
      ]
     },
     "execution_count": 287,
     "metadata": {},
     "output_type": "execute_result"
    }
   ],
   "source": [
    "np.mean(px_new), np.var(px_new), np.mean(sample), np.var(sample), sum(sample)"
   ]
  },
  {
   "cell_type": "code",
   "execution_count": 288,
   "metadata": {
    "collapsed": false
   },
   "outputs": [
    {
     "data": {
      "text/plain": [
       "[<matplotlib.lines.Line2D at 0x10ac3a2d0>]"
      ]
     },
     "execution_count": 288,
     "metadata": {},
     "output_type": "execute_result"
    },
    {
     "data": {
      "image/png": "[encoded data removed]",
      "text/plain": [
       "<matplotlib.figure.Figure at 0x10ac3a4d0>"
      ]
     },
     "metadata": {},
     "output_type": "display_data"
    }
   ],
   "source": [
    "plt.plot(range(0, Nx_dat,1),np.double(sample)/Nx_resample)\n",
    "plt.plot(range(0, Nx_dat,1),px_new)"
   ]
  },
  {
   "cell_type": "code",
   "execution_count": null,
   "metadata": {
    "collapsed": false
   },
   "outputs": [],
   "source": []
  },
  {
   "cell_type": "code",
   "execution_count": null,
   "metadata": {
    "collapsed": false
   },
   "outputs": [],
   "source": []
  },
  {
   "cell_type": "code",
   "execution_count": null,
   "metadata": {
    "collapsed": false
   },
   "outputs": [],
   "source": []
  },
  {
   "cell_type": "code",
   "execution_count": null,
   "metadata": {
    "collapsed": false
   },
   "outputs": [],
   "source": []
  },
  {
   "cell_type": "code",
   "execution_count": null,
   "metadata": {
    "collapsed": false
   },
   "outputs": [],
   "source": []
  },
  {
   "cell_type": "code",
   "execution_count": null,
   "metadata": {
    "collapsed": false
   },
   "outputs": [],
   "source": []
  },
  {
   "cell_type": "code",
   "execution_count": null,
   "metadata": {
    "collapsed": false
   },
   "outputs": [],
   "source": []
  },
  {
   "cell_type": "code",
   "execution_count": null,
   "metadata": {
    "collapsed": false
   },
   "outputs": [],
   "source": []
  },
  {
   "cell_type": "code",
   "execution_count": null,
   "metadata": {
    "collapsed": false
   },
   "outputs": [],
   "source": []
  },
  {
   "cell_type": "code",
   "execution_count": null,
   "metadata": {
    "collapsed": false
   },
   "outputs": [],
   "source": []
  },
  {
   "cell_type": "code",
   "execution_count": null,
   "metadata": {
    "collapsed": true
   },
   "outputs": [],
   "source": []
  }
 ],
 "metadata": {
  "kernelspec": {
   "display_name": "Python 2",
   "language": "python",
   "name": "python2"
  },
  "language_info": {
   "codemirror_mode": {
    "name": "ipython",
    "version": 2
   },
   "file_extension": ".py",
   "mimetype": "text/x-python",
   "name": "python",
   "nbconvert_exporter": "python",
   "pygments_lexer": "ipython2",
   "version": "2.7.10"
  }
 },
 "nbformat": 4,
 "nbformat_minor": 0
}
