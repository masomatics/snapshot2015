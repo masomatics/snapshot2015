{
 "cells": [
  {
   "cell_type": "code",
   "execution_count": 6,
   "metadata": {
    "collapsed": true
   },
   "outputs": [],
   "source": [
    "import numpy as np\n",
    "import scipy as sp\n",
    "from matplotlib import pyplot as plt\n",
    "%matplotlib inline\n",
    "import sys\n",
    "sys.path.append(\"/Users/markov/Dropbox/Research/OnGoing_Research/Snapshot/Python_experiment/source\") "
   ]
  },
  {
   "cell_type": "code",
   "execution_count": 7,
   "metadata": {
    "collapsed": true
   },
   "outputs": [],
   "source": [
    "import Discrete_Doucet_system\n",
    "reload(Discrete_Doucet_system)\n"
   ]
  },
  {
   "cell_type": "code",
   "execution_count": 26,
   "metadata": {
    "collapsed": false
   },
   "outputs": [],
   "source": [
    "T0 = 4\n",
    "Nx_obs = 3000\n",
    "Nx_dat = 3000\n",
    "theta_approx0 = np.array([-1.5, 0., 0., 0., 0.])\n",
    "theta_approx = np.array([  9.78866872e-03, 4.99176141e-01, 2.49789192e+01, 5.98936442e+00, 0.2])\n",
    "dsystem = Discrete_Doucet_system.Discrete_Doucet_system()\n",
    "dsystem0 = Discrete_Doucet_system.Discrete_Doucet_system(theta = theta_approx0)\n",
    "dsystem_approx = Discrete_Doucet_system.Discrete_Doucet_system(theta = theta_approx)\n",
    "simul  = Discrete_Doucet_system.Simulate(T = T0) \n",
    "xobs,pobs = simul.simulate(dsystem, Nx = Nx_obs)\n",
    "xdat, pdat= simul.simulate(dsystem_approx, Nx = Nx_dat)\n"
   ]
  },
  {
   "cell_type": "code",
   "execution_count": 27,
   "metadata": {
    "collapsed": false
   },
   "outputs": [
    {
     "data": {
      "text/plain": [
       "[<matplotlib.lines.Line2D at 0x10a7bd2d0>]"
      ]
     },
     "execution_count": 27,
     "metadata": {},
     "output_type": "execute_result"
    },
    {
     "data": {
      "image/png": "[encoded data removed]",
      "text/plain": [
       "<matplotlib.figure.Figure at 0x106247790>"
      ]
     },
     "metadata": {},
     "output_type": "display_data"
    }
   ],
   "source": [
    "px = dsystem.compare(xdat, xobs) \n",
    "\n",
    "xdat_ordered = np.sort(xdat)\n",
    "px_new_ordered = px[np.argsort(xdat)]\n",
    "\n",
    "plt.plot(xdat_ordered, px_new_ordered)"
   ]
  },
  {
   "cell_type": "code",
   "execution_count": 39,
   "metadata": {
    "collapsed": false
   },
   "outputs": [
    {
     "data": {
      "text/plain": [
       "matrix([[  1.53908744e-02],\n",
       "        [  5.05257327e-01],\n",
       "        [  2.49555384e+01],\n",
       "        [  5.93840593e+00]])"
      ]
     },
     "execution_count": 39,
     "metadata": {},
     "output_type": "execute_result"
    }
   ],
   "source": [
    "Nx_test = 3000\n",
    "xdat, pdat, A, B = simul.simulate(dsystem, Nx_test,  seed = 2, stat= True)\n",
    "np.linalg.inv(A) * np.matrix(B).transpose()"
   ]
  },
  {
   "cell_type": "code",
   "execution_count": 40,
   "metadata": {
    "collapsed": false
   },
   "outputs": [
    {
     "data": {
      "text/plain": [
       "[<matplotlib.lines.Line2D at 0x1213c2250>]"
      ]
     },
     "execution_count": 40,
     "metadata": {},
     "output_type": "execute_result"
    },
    {
     "data": {
      "image/png": "[encoded data removed]",
      "text/plain": [
       "<matplotlib.figure.Figure at 0x121328510>"
      ]
     },
     "metadata": {},
     "output_type": "display_data"
    }
   ],
   "source": [
    "px = dsystem.compare(xdat, xobs) \n",
    "xdat_ordered = np.sort(xdat)\n",
    "px_new_ordered = px[np.argsort(xdat)]\n",
    "plt.plot(xdat_ordered, px_new_ordered)"
   ]
  },
  {
   "cell_type": "code",
   "execution_count": 53,
   "metadata": {
    "collapsed": false
   },
   "outputs": [
    {
     "data": {
      "text/plain": [
       "matrix([[  0.05876432],\n",
       "        [  0.50355337],\n",
       "        [ 24.95234046],\n",
       "        [  5.8863383 ]])"
      ]
     },
     "execution_count": 53,
     "metadata": {},
     "output_type": "execute_result"
    }
   ],
   "source": [
    "xdat_old, pdat_old = simul.simulate(dsystem, Nx_test,  seed = 2)\n",
    "xdat_new, pdat_new, A_new, B_new = simul.simulate(dsystem, Nx_test,  seed = 2, Px = px, stat= True)\n",
    "np.linalg.inv(A_new) * np.matrix(B_new).transpose()"
   ]
  },
  {
   "cell_type": "code",
   "execution_count": 54,
   "metadata": {
    "collapsed": false
   },
   "outputs": [
    {
     "data": {
      "text/plain": [
       "(array([ 0.,  0.,  0., ...,  0.,  0.,  0.]),\n",
       " array([ 0.,  0.,  0., ...,  0.,  0.,  0.]))"
      ]
     },
     "execution_count": 54,
     "metadata": {},
     "output_type": "execute_result"
    }
   ],
   "source": [
    "xdat_old - xdat_new, pdat_old - pdat_new "
   ]
  },
  {
   "cell_type": "markdown",
   "metadata": {},
   "source": [
    "Set ALPHA and initial theta"
   ]
  },
  {
   "cell_type": "code",
   "execution_count": 103,
   "metadata": {
    "collapsed": true
   },
   "outputs": [],
   "source": [
    "alpha =  0.5\n",
    "theta_approx_old = np.array([-1.5, 0, 0, 0.1, 0.2])\n",
    "dsystem_old = Discrete_Doucet_system.Discrete_Doucet_system(theta = theta_approx_old)\n"
   ]
  },
  {
   "cell_type": "markdown",
   "metadata": {},
   "source": [
    "Iteration 1. Simulate with initial parameters. First round does not require the stats"
   ]
  },
  {
   "cell_type": "code",
   "execution_count": 104,
   "metadata": {
    "collapsed": true
   },
   "outputs": [],
   "source": [
    "iter = 1\n",
    "xdat_test, pdat_test= simul.simulate(dsystem_old, Nx_test,  seed = 2)\n",
    "px = Nx_test * dsystem.compare(xdat_old, xobs) \n",
    "xdat_new, pdat_new, A_new, B_new = simul.simulate(dsystem_old, Nx_test,  seed = 2, Px = px, stat= True)\n"
   ]
  },
  {
   "cell_type": "markdown",
   "metadata": {},
   "source": [
    "Sanity CHECK"
   ]
  },
  {
   "cell_type": "code",
   "execution_count": 105,
   "metadata": {
    "collapsed": false
   },
   "outputs": [
    {
     "data": {
      "text/plain": [
       "[<matplotlib.lines.Line2D at 0x124adfb10>]"
      ]
     },
     "execution_count": 105,
     "metadata": {},
     "output_type": "execute_result"
    },
    {
     "data": {
      "image/png": "[encoded data removed]",
      "text/plain": [
       "<matplotlib.figure.Figure at 0x124a9b650>"
      ]
     },
     "metadata": {},
     "output_type": "display_data"
    }
   ],
   "source": [
    "xdat_ordered = np.sort(xdat_old)\n",
    "px_ordered = px[np.argsort(xdat_old)]\n",
    "plt.plot(xdat_ordered, px_ordered)"
   ]
  },
  {
   "cell_type": "code",
   "execution_count": 106,
   "metadata": {
    "collapsed": false
   },
   "outputs": [
    {
     "data": {
      "text/plain": [
       "array([ 0.,  0.,  0., ...,  0.,  0.,  0.])"
      ]
     },
     "execution_count": 106,
     "metadata": {},
     "output_type": "execute_result"
    }
   ],
   "source": [
    "xdat_new - xdat_test"
   ]
  },
  {
   "cell_type": "markdown",
   "metadata": {},
   "source": [
    "Samples from Original distribution"
   ]
  },
  {
   "cell_type": "code",
   "execution_count": 107,
   "metadata": {
    "collapsed": false
   },
   "outputs": [],
   "source": [
    "xdat_old, pdat_old, A_old, B_old = simul.simulate(dsystem_old, Nx_test,  seed = 3, stat= True)"
   ]
  },
  {
   "cell_type": "code",
   "execution_count": 108,
   "metadata": {
    "collapsed": false
   },
   "outputs": [],
   "source": [
    "theta_new = np.linalg.inv(A_new + alpha*A_old) * np.matrix(B_new + alpha*B_old).transpose()"
   ]
  },
  {
   "cell_type": "code",
   "execution_count": 148,
   "metadata": {
    "collapsed": false
   },
   "outputs": [
    {
     "data": {
      "text/plain": [
       "array([-1.37950045, -0.02735133, -0.22740629, -0.09308106,  0.2       ])"
      ]
     },
     "execution_count": 148,
     "metadata": {},
     "output_type": "execute_result"
    }
   ],
   "source": [
    "np.array(theta_new.transpose().tolist()[0] + [0.2])"
   ]
  },
  {
   "cell_type": "code",
   "execution_count": null,
   "metadata": {
    "collapsed": false
   },
   "outputs": [],
   "source": []
  },
  {
   "cell_type": "code",
   "execution_count": 153,
   "metadata": {
    "collapsed": false
   },
   "outputs": [
    {
     "name": "stdout",
     "output_type": "stream",
     "text": [
      "[-1.5  0.   0.   0.1  0.2]\n",
      "[ -1.40916682e+00  -1.39918848e-03  -2.14669301e-02  -6.39769032e-02\n",
      "   2.00000000e-01]\n",
      "[-1.35539636  0.01540772 -0.36777388 -0.17732693  0.2       ]\n",
      "[-1.04486451  0.0554074  -0.61727598 -0.48314572  0.2       ]\n",
      "[ 0.98239627  0.24402125 -1.31682879 -2.58616374  0.2       ]\n",
      "[ 1.51131929  0.20695405 -0.77273393 -3.22428848  0.2       ]\n",
      "[ 1.42371367  0.18953031 -0.42812614 -3.18855833  0.2       ]\n",
      "[  1.21321365e+00   1.33599349e-01   1.59449860e-03  -2.90799483e+00\n",
      "   2.00000000e-01]\n",
      "[ 1.40910936  0.17146688 -0.27673246 -3.16739962  0.2       ]\n",
      "[ 1.28709161  0.1456055  -0.1215366  -3.04139186  0.2       ]\n",
      "[ 0.81217713  0.12190302 -0.4831398  -2.58252119  0.2       ]\n",
      "[ 0.69072368  0.08961549 -0.03913909 -2.3157339   0.2       ]\n",
      "[ 0.82846102  0.08883364  0.00726206 -2.63466435  0.2       ]\n",
      "[ 0.99221683  0.0917858  -0.03236252 -2.81843956  0.2       ]\n",
      "[ 0.35286499  0.05733601  0.41918321 -2.22201664  0.2       ]\n",
      "[ 0.52855921  0.07800163  0.3632205  -2.27897428  0.2       ]\n",
      "[ 0.41445459  0.04519485  0.70116207 -1.98474813  0.2       ]\n",
      "[ 0.51786199  0.04305212  0.47828475 -2.02805445  0.2       ]\n",
      "[ 0.54657516  0.07627854  0.17366461 -2.07611032  0.2       ]\n",
      "[ 0.66628538  0.07804272 -0.00687742 -2.21013455  0.2       ]\n",
      "[ 0.41812927  0.04192204  0.40362647 -1.79720449  0.2       ]\n",
      "[-0.22466932 -0.07583788  1.06595424 -1.13817069  0.2       ]\n",
      "[-0.38652476 -0.11520743  1.04496875 -1.04852726  0.2       ]\n",
      "[-0.44300205 -0.11647639  1.27520934 -0.97989668  0.2       ]\n",
      "[-0.38887422 -0.13505432  1.53182084 -1.14545977  0.2       ]\n",
      "[-0.36856239 -0.10757925  1.52360379 -1.18282041  0.2       ]\n",
      "[-0.59413639 -0.12926165  1.94948075 -0.92303687  0.2       ]\n",
      "[-0.81032991 -0.09661716  1.55896478 -0.89239134  0.2       ]\n",
      "[-0.64966786 -0.12832941  1.65042887 -1.06556256  0.2       ]\n",
      "[ 0.38258657 -0.0227294   1.36717251 -2.02953675  0.2       ]\n",
      "[ 0.5028648   0.01512559  1.03345021 -2.10913089  0.2       ]\n",
      "[ 0.26858399  0.04579925  0.74780537 -1.98164283  0.2       ]\n",
      "[-0.29831632  0.01909954  0.1809741  -1.51116958  0.2       ]\n",
      "[-0.24090533  0.02621112  0.24788544 -1.59930873  0.2       ]\n",
      "[-0.22095077  0.01299209  0.1792124  -1.60096333  0.2       ]\n",
      "[-0.11116258  0.02846433  0.0110729  -1.87863646  0.2       ]\n",
      "[ 0.48679639  0.10985222 -0.44059782 -2.28984697  0.2       ]\n",
      "[ 0.6667438   0.11104929 -0.3004505  -2.49260358  0.2       ]\n",
      "[ 0.64917652  0.07775323 -0.16007532 -2.52914419  0.2       ]\n",
      "[-0.23916909 -0.0111114   0.13054562 -1.57687852  0.2       ]\n",
      "[-0.02824039  0.02363371 -0.12027374 -1.55098633  0.2       ]\n",
      "[ 0.14656891  0.0609318  -0.28369809 -1.8094881   0.2       ]\n",
      "[ 0.3418174   0.10777282 -0.45677025 -2.066972    0.2       ]\n",
      "[ 0.40570588  0.11860305 -0.20743892 -2.01594991  0.2       ]\n",
      "[ 0.05552757  0.07787524 -0.29078594 -1.78785259  0.2       ]\n",
      "[ 0.05716647  0.06843391 -0.11961792 -1.63371861  0.2       ]\n",
      "[ 0.18734224  0.06282861 -0.0625912  -1.85581504  0.2       ]\n",
      "[ 0.147773    0.06481769 -0.34211914 -1.74387797  0.2       ]\n",
      "[-0.41889869  0.00315505 -0.69271429 -1.10065557  0.2       ]\n",
      "[-0.26692285  0.01701169 -0.82980144 -1.326196    0.2       ]\n",
      "[-0.40053895  0.00550171 -0.86088817 -1.02701521  0.2       ]\n",
      "[-0.5837926   0.01488133 -1.2006294  -0.89885358  0.2       ]\n",
      "[-1.03666358 -0.06010361 -0.96355478 -0.38475726  0.2       ]\n",
      "[-1.16765332 -0.07183337 -0.99920601 -0.23992392  0.2       ]\n",
      "[-1.39404008 -0.10673052 -0.71515784 -0.02232821  0.2       ]\n",
      "[-1.1101365  -0.06483039 -0.63929256 -0.39678981  0.2       ]\n",
      "[-1.49318961 -0.07550249 -0.95018547 -0.02083722  0.2       ]\n",
      "[-1.26271202 -0.06595527 -0.89808345 -0.32922692  0.2       ]\n",
      "[-1.01523602 -0.01433211 -0.9879753  -0.54432374  0.2       ]\n",
      "[-1.21259778 -0.02802649 -0.76438476 -0.32304038  0.2       ]\n",
      "[-1.24234923 -0.09818637 -1.00929313 -0.50507492  0.2       ]\n",
      "[-1.35082649 -0.09933958 -0.92322356 -0.31175587  0.2       ]\n",
      "[-1.47951303 -0.14205622 -0.96961823 -0.26371653  0.2       ]\n",
      "[-1.88577567 -0.13090833 -1.32903581  0.10146953  0.2       ]\n",
      "[-2.15375568 -0.16778923 -1.69271656  0.41600797  0.2       ]\n",
      "[-1.97036609 -0.16383868 -1.7347043   0.22519802  0.2       ]\n",
      "[-2.03143746 -0.16084476 -1.70656018  0.31688438  0.2       ]\n",
      "[-2.06514221 -0.13564743 -1.92528769  0.31427683  0.2       ]\n"
     ]
    },
    {
     "ename": "KeyboardInterrupt",
     "evalue": "",
     "output_type": "error",
     "traceback": [
      "\u001b[0;31m---------------------------------------------------------------------------\u001b[0m",
      "\u001b[0;31mKeyboardInterrupt\u001b[0m                         Traceback (most recent call last)",
      "\u001b[0;32m<ipython-input-153-7b62015242ba>\u001b[0m in \u001b[0;36m<module>\u001b[0;34m()\u001b[0m\n\u001b[1;32m      5\u001b[0m         \u001b[0mdsystem_old\u001b[0m \u001b[0;34m=\u001b[0m \u001b[0mDiscrete_Doucet_system\u001b[0m\u001b[0;34m.\u001b[0m\u001b[0mDiscrete_Doucet_system\u001b[0m\u001b[0;34m(\u001b[0m\u001b[0mtheta\u001b[0m \u001b[0;34m=\u001b[0m \u001b[0mtheta_approx\u001b[0m\u001b[0;34m)\u001b[0m\u001b[0;34m\u001b[0m\u001b[0m\n\u001b[1;32m      6\u001b[0m         \u001b[0mxdat_test\u001b[0m\u001b[0;34m,\u001b[0m \u001b[0mpdat_test\u001b[0m\u001b[0;34m=\u001b[0m \u001b[0msimul\u001b[0m\u001b[0;34m.\u001b[0m\u001b[0msimulate\u001b[0m\u001b[0;34m(\u001b[0m\u001b[0mdsystem_old\u001b[0m\u001b[0;34m,\u001b[0m \u001b[0mNx_test\u001b[0m\u001b[0;34m,\u001b[0m  \u001b[0mseed\u001b[0m \u001b[0;34m=\u001b[0m \u001b[0miter\u001b[0m\u001b[0;34m*\u001b[0m\u001b[0;36m2\u001b[0m\u001b[0;34m)\u001b[0m\u001b[0;34m\u001b[0m\u001b[0m\n\u001b[0;32m----> 7\u001b[0;31m         \u001b[0mpx\u001b[0m \u001b[0;34m=\u001b[0m \u001b[0mNx_test\u001b[0m \u001b[0;34m*\u001b[0m \u001b[0mdsystem\u001b[0m\u001b[0;34m.\u001b[0m\u001b[0mcompare\u001b[0m\u001b[0;34m(\u001b[0m\u001b[0mxdat_old\u001b[0m\u001b[0;34m,\u001b[0m \u001b[0mxobs\u001b[0m\u001b[0;34m)\u001b[0m\u001b[0;34m\u001b[0m\u001b[0m\n\u001b[0m\u001b[1;32m      8\u001b[0m         \u001b[0mxdat_new\u001b[0m\u001b[0;34m,\u001b[0m \u001b[0mpdat_new\u001b[0m\u001b[0;34m,\u001b[0m \u001b[0mA_new\u001b[0m\u001b[0;34m,\u001b[0m \u001b[0mB_new\u001b[0m \u001b[0;34m=\u001b[0m \u001b[0msimul\u001b[0m\u001b[0;34m.\u001b[0m\u001b[0msimulate\u001b[0m\u001b[0;34m(\u001b[0m\u001b[0mdsystem_old\u001b[0m\u001b[0;34m,\u001b[0m \u001b[0mNx_test\u001b[0m\u001b[0;34m,\u001b[0m  \u001b[0mseed\u001b[0m \u001b[0;34m=\u001b[0m \u001b[0miter\u001b[0m\u001b[0;34m*\u001b[0m\u001b[0;36m2\u001b[0m\u001b[0;34m,\u001b[0m \u001b[0mPx\u001b[0m \u001b[0;34m=\u001b[0m \u001b[0mpx\u001b[0m\u001b[0;34m,\u001b[0m \u001b[0mstat\u001b[0m\u001b[0;34m=\u001b[0m \u001b[0mTrue\u001b[0m\u001b[0;34m)\u001b[0m\u001b[0;34m\u001b[0m\u001b[0m\n\u001b[1;32m      9\u001b[0m         \u001b[0mxdat_old\u001b[0m\u001b[0;34m,\u001b[0m \u001b[0mpdat_old\u001b[0m\u001b[0;34m,\u001b[0m \u001b[0mA_old\u001b[0m\u001b[0;34m,\u001b[0m \u001b[0mB_old\u001b[0m \u001b[0;34m=\u001b[0m \u001b[0msimul\u001b[0m\u001b[0;34m.\u001b[0m\u001b[0msimulate\u001b[0m\u001b[0;34m(\u001b[0m\u001b[0mdsystem_old\u001b[0m\u001b[0;34m,\u001b[0m \u001b[0mNx_test\u001b[0m\u001b[0;34m,\u001b[0m  \u001b[0mseed\u001b[0m \u001b[0;34m=\u001b[0m \u001b[0miter\u001b[0m\u001b[0;34m*\u001b[0m\u001b[0;36m2\u001b[0m\u001b[0;34m+\u001b[0m\u001b[0;36m1\u001b[0m\u001b[0;34m,\u001b[0m \u001b[0mstat\u001b[0m\u001b[0;34m=\u001b[0m \u001b[0mTrue\u001b[0m\u001b[0;34m)\u001b[0m\u001b[0;34m\u001b[0m\u001b[0m\n",
      "\u001b[0;32m/Users/markov/Dropbox/Research/OnGoing_Research/Snapshot/Python_experiment/source/Discrete_Doucet_system.py\u001b[0m in \u001b[0;36mcompare\u001b[0;34m(self, xdat, xobs)\u001b[0m\n\u001b[1;32m     78\u001b[0m         \u001b[0mdiff\u001b[0m \u001b[0;34m=\u001b[0m \u001b[0mnp\u001b[0m\u001b[0;34m.\u001b[0m\u001b[0mabs\u001b[0m\u001b[0;34m(\u001b[0m\u001b[0mxdatmat\u001b[0m \u001b[0;34m-\u001b[0m \u001b[0mnp\u001b[0m\u001b[0;34m.\u001b[0m\u001b[0mtranspose\u001b[0m\u001b[0;34m(\u001b[0m\u001b[0mxobsmat\u001b[0m\u001b[0;34m)\u001b[0m\u001b[0;34m)\u001b[0m\u001b[0;34m\u001b[0m\u001b[0m\n\u001b[1;32m     79\u001b[0m         \u001b[0mdiffsqr\u001b[0m \u001b[0;34m=\u001b[0m \u001b[0mnp\u001b[0m\u001b[0;34m.\u001b[0m\u001b[0mpower\u001b[0m\u001b[0;34m(\u001b[0m\u001b[0mdiff\u001b[0m\u001b[0;34m,\u001b[0m \u001b[0;36m2\u001b[0m\u001b[0;34m)\u001b[0m\u001b[0;34m\u001b[0m\u001b[0m\n\u001b[0;32m---> 80\u001b[0;31m \u001b[0;34m\u001b[0m\u001b[0m\n\u001b[0m\u001b[1;32m     81\u001b[0m         \u001b[0;31m# THIS is being done to increase the precision of the exponentiation\u001b[0m\u001b[0;34m\u001b[0m\u001b[0;34m\u001b[0m\u001b[0m\n\u001b[1;32m     82\u001b[0m         \u001b[0mpyx\u001b[0m \u001b[0;34m=\u001b[0m \u001b[0mnp\u001b[0m\u001b[0;34m.\u001b[0m\u001b[0mexp\u001b[0m\u001b[0;34m(\u001b[0m\u001b[0;34m-\u001b[0m\u001b[0;34m(\u001b[0m\u001b[0mdiffsqr\u001b[0m \u001b[0;34m-\u001b[0m \u001b[0mnp\u001b[0m\u001b[0;34m.\u001b[0m\u001b[0mtranspose\u001b[0m\u001b[0;34m(\u001b[0m\u001b[0mnp\u001b[0m\u001b[0;34m.\u001b[0m\u001b[0mmatrix\u001b[0m\u001b[0;34m(\u001b[0m\u001b[0;34m[\u001b[0m\u001b[0;34m[\u001b[0m\u001b[0mnp\u001b[0m\u001b[0;34m.\u001b[0m\u001b[0mmin\u001b[0m\u001b[0;34m(\u001b[0m\u001b[0mrow\u001b[0m\u001b[0;34m)\u001b[0m \u001b[0;32mfor\u001b[0m \u001b[0mrow\u001b[0m \u001b[0;32min\u001b[0m \u001b[0mdiffsqr\u001b[0m\u001b[0;34m]\u001b[0m\u001b[0;34m]\u001b[0m \u001b[0;34m*\u001b[0m \u001b[0mNx_dat\u001b[0m\u001b[0;34m)\u001b[0m\u001b[0;34m)\u001b[0m\u001b[0;34m)\u001b[0m\u001b[0;34m)\u001b[0m\u001b[0;34m\u001b[0m\u001b[0m\n",
      "\u001b[0;31mKeyboardInterrupt\u001b[0m: "
     ]
    }
   ],
   "source": [
    "alpha = 1.5\n",
    "theta_approx = np.array([-1.5, 0, 0, 0.1, 0.2])\n",
    "for iter in range(0,100):\n",
    "        print theta_approx\n",
    "        dsystem_old = Discrete_Doucet_system.Discrete_Doucet_system(theta = theta_approx)\n",
    "        xdat_test, pdat_test= simul.simulate(dsystem_old, Nx_test,  seed = iter*2)\n",
    "        px = Nx_test * dsystem.compare(xdat_old, xobs) \n",
    "        xdat_new, pdat_new, A_new, B_new = simul.simulate(dsystem_old, Nx_test,  seed = iter*2, Px = px, stat= True)\n",
    "        xdat_old, pdat_old, A_old, B_old = simul.simulate(dsystem_old, Nx_test,  seed = iter*2+1, stat= True)\n",
    "        theta_approx = np.array(np.linalg.inv(A_new + alpha*A_old) * np.matrix(B_new + alpha*B_old).transpose())\n",
    "        theta_approx = np.array(theta_approx.transpose().tolist()[0] + [0.2])"
   ]
  },
  {
   "cell_type": "code",
   "execution_count": null,
   "metadata": {
    "collapsed": false
   },
   "outputs": [],
   "source": []
  },
  {
   "cell_type": "code",
   "execution_count": null,
   "metadata": {
    "collapsed": true
   },
   "outputs": [],
   "source": []
  }
 ],
 "metadata": {
  "kernelspec": {
   "display_name": "Python 2",
   "language": "python",
   "name": "python2"
  },
  "language_info": {
   "codemirror_mode": {
    "name": "ipython",
    "version": 2
   },
   "file_extension": ".py",
   "mimetype": "text/x-python",
   "name": "python",
   "nbconvert_exporter": "python",
   "pygments_lexer": "ipython2",
   "version": "2.7.10"
  }
 },
 "nbformat": 4,
 "nbformat_minor": 0
}
