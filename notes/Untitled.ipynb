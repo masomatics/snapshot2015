{
 "cells": [
  {
   "cell_type": "code",
   "execution_count": 281,
   "metadata": {
    "collapsed": false
   },
   "outputs": [
    {
     "name": "stdout",
     "output_type": "stream",
     "text": [
      "Once deleted, variables cannot be recovered. Proceed (y/[n])? y\n"
     ]
    }
   ],
   "source": [
    "%reset"
   ]
  },
  {
   "cell_type": "code",
   "execution_count": 793,
   "metadata": {
    "collapsed": true
   },
   "outputs": [],
   "source": [
    "import numpy as np\n",
    "import scipy as sp\n",
    "from matplotlib import pyplot as plt\n",
    "%matplotlib inline\n"
   ]
  },
  {
   "cell_type": "code",
   "execution_count": 828,
   "metadata": {
    "collapsed": false
   },
   "outputs": [],
   "source": [
    "class Discrete_Doucet_system:\n",
    "    \n",
    "    dflt_theta = np.array([0, 1./2., 25., 6., 0.2])\n",
    "    dflt_sigma= np.array([np.sqrt(10), np.sqrt(2)]) \n",
    "    def __init__(self, theta = dflt_theta,  sigma=dflt_sigma ):\n",
    "        self.theta = theta\n",
    "        self.sigma =sigma \n",
    "     \n",
    "    def update(self, xdat):\n",
    "        sys_noise =  np.random.normal(0., self.sigma[0], len(xdat))\n",
    "        obs_noise = np.random.normal(0., self.sigma[1], len(xdat))\n",
    "        xdat_new =  np.sum(self.fxdat(xdat), 0 )+ sys_noise        \n",
    "        ydat_new = xdat_new + obs_noise\n",
    "        return np.array(xdat_new)[0], np.array(ydat_new)[0]\n",
    "     \n",
    "    def fxdat(self, xdat):             \n",
    "        fx = np.matrix([[self.theta[0]]*len(xdat) , self.theta[1]*xdat , self.theta[2]*(xdat / (1. + np.power(xdat,2)) ), \\\n",
    "        self.theta[3]*np.cos(self.theta[4]*xdat)])\n",
    "        return  fx       \n",
    "    \n",
    "    def jacob(self, xdat, sine = True):\n",
    "        \n",
    "        if sine == True:\n",
    "            jacobian =  np.matrix([[1.]*len(xdat),  xdat, (xdat / (1. + np.power(xdat,2)) ), \\\n",
    "                     np.cos(self.theta[4]*xdat), -xdat * self.theta[3] *np.sin(self.theta[4]*xdat) ])\n",
    "        else:\n",
    "            jacobian =  np.matrix([[1.]*len(xdat),  xdat, (xdat / (1. + np.power(xdat,2)) ), \\\n",
    "                     np.cos(self.theta[4]*xdat)])\n",
    "        \n",
    "        return jacobian\n",
    "    \n"
   ]
  },
  {
   "cell_type": "code",
   "execution_count": 829,
   "metadata": {
    "collapsed": false
   },
   "outputs": [
    {
     "data": {
      "text/plain": [
       "(array([  0. ,   0.5,  25. ,   6. ,   0.2]), array([ 3.16227766,  1.41421356]))"
      ]
     },
     "execution_count": 829,
     "metadata": {},
     "output_type": "execute_result"
    }
   ],
   "source": [
    "dsystem = Discrete_Doucet_system()\n",
    "dsystem.theta, dsystem.sigma"
   ]
  },
  {
   "cell_type": "code",
   "execution_count": 855,
   "metadata": {
    "collapsed": false
   },
   "outputs": [],
   "source": [
    "init = -1.5\n",
    "Nx = 30\n",
    "Ny = 60\n",
    "\n",
    "x0 = np.array([init]*Nx )\n",
    "x0 = np.random.normal(init,  np.sqrt(5) , Nx)\n",
    "\n"
   ]
  },
  {
   "cell_type": "code",
   "execution_count": 856,
   "metadata": {
    "collapsed": false
   },
   "outputs": [],
   "source": [
    "T = 12\n",
    "xnow = x0\n",
    "xmean = np.array([0.]*(T+1))\n",
    "xmean[0] = init\n",
    "\n",
    "for t  in range(1,T+1,1):\n",
    "    xynow = dsystem.update(xnow)\n",
    "    xnow = xynow[0]\n",
    "    ynow = xynow[1]\n",
    "    xmean[t] = np.mean(xnow)\n",
    "\n",
    "xdat = xnow    "
   ]
  },
  {
   "cell_type": "code",
   "execution_count": 857,
   "metadata": {
    "collapsed": false
   },
   "outputs": [],
   "source": [
    "x0 = np.random.normal(init,  np.sqrt(5) , Ny)\n",
    "xnow = x0\n",
    "xmean = np.array([0.]*(T+1))\n",
    "xmean[0] = init\n",
    "for t  in range(1,T+1,1):\n",
    "    xynow = dsystem.update(xnow)\n",
    "    xnow = xynow[0]\n",
    "    ynow = xynow[1]\n",
    "    xmean[t] = np.mean(xnow)\n",
    "\n",
    "xobs = xnow"
   ]
  },
  {
   "cell_type": "code",
   "execution_count": null,
   "metadata": {
    "collapsed": false
   },
   "outputs": [],
   "source": [
    "\n",
    "    "
   ]
  },
  {
   "cell_type": "code",
   "execution_count": null,
   "metadata": {
    "collapsed": false
   },
   "outputs": [],
   "source": [
    "\n",
    "\n"
   ]
  },
  {
   "cell_type": "code",
   "execution_count": null,
   "metadata": {
    "collapsed": false
   },
   "outputs": [],
   "source": []
  },
  {
   "cell_type": "code",
   "execution_count": 858,
   "metadata": {
    "collapsed": false
   },
   "outputs": [
    {
     "data": {
      "image/png": "[encoded data removed]",
      "text/plain": [
       "<matplotlib.figure.Figure at 0x10f5069d0>"
      ]
     },
     "metadata": {},
     "output_type": "display_data"
    }
   ],
   "source": [
    "plt.subplot(1,2,0)\n",
    "xplot= plt.hist(xdat,bins=50, normed=True)\n",
    "plt.subplot(1,2,1)\n",
    "yplot= plt.hist(xobs,bins=50, normed=True)\n"
   ]
  },
  {
   "cell_type": "code",
   "execution_count": 859,
   "metadata": {
    "collapsed": false
   },
   "outputs": [
    {
     "data": {
      "text/plain": [
       "[<matplotlib.lines.Line2D at 0x12cd24fd0>]"
      ]
     },
     "execution_count": 859,
     "metadata": {},
     "output_type": "execute_result"
    },
    {
     "data": {
      "image/png": "[encoded data removed]",
      "text/plain": [
       "<matplotlib.figure.Figure at 0x10f43e4d0>"
      ]
     },
     "metadata": {},
     "output_type": "display_data"
    }
   ],
   "source": [
    "plt.plot(range(0,T+1,1), xmean)"
   ]
  },
  {
   "cell_type": "code",
   "execution_count": 860,
   "metadata": {
    "collapsed": false
   },
   "outputs": [
    {
     "data": {
      "text/plain": [
       "(4, 60)"
      ]
     },
     "execution_count": 860,
     "metadata": {},
     "output_type": "execute_result"
    }
   ],
   "source": [
    "hoge = dsystem.jacob(xnow, False)\n",
    "hoge.shape"
   ]
  },
  {
   "cell_type": "code",
   "execution_count": null,
   "metadata": {
    "collapsed": false
   },
   "outputs": [],
   "source": []
  },
  {
   "cell_type": "code",
   "execution_count": null,
   "metadata": {
    "collapsed": false
   },
   "outputs": [],
   "source": []
  },
  {
   "cell_type": "code",
   "execution_count": 861,
   "metadata": {
    "collapsed": false
   },
   "outputs": [
    {
     "data": {
      "text/plain": [
       "((60, 30), (30, 60))"
      ]
     },
     "execution_count": 861,
     "metadata": {},
     "output_type": "execute_result"
    }
   ],
   "source": [
    "xdatmat = np.matrix([list(xdat)] * Ny)\n",
    "xobsmat = np.matrix([list(xobs)] * Nx)\n",
    "xdatmat.shape, xobsmat.shape"
   ]
  },
  {
   "cell_type": "code",
   "execution_count": 862,
   "metadata": {
    "collapsed": false
   },
   "outputs": [],
   "source": [
    "diff = np.abs(xdatmat -np.transpose(xobsmat))\n",
    "diffsqr = np.power(diff, 2)\n",
    "pyx = np.exp(-(diffsqr  - np.transpose(np.matrix([[np.min(row) for row in diffsqr]]*Nx))))\n",
    "pyxm = np.matrix([row/np.sum(row) for row in pyx.tolist()])\n",
    "px_new = np.array(np.sum(pyxm, 0))[0] \n",
    "px_new = px_new / sum(px_new)"
   ]
  },
  {
   "cell_type": "code",
   "execution_count": 863,
   "metadata": {
    "collapsed": false
   },
   "outputs": [],
   "source": [
    "Nx_resample = 500000\n",
    "sample = np.random.multinomial(Nx_resample, px_new)"
   ]
  },
  {
   "cell_type": "code",
   "execution_count": 864,
   "metadata": {
    "collapsed": false
   },
   "outputs": [
    {
     "data": {
      "text/plain": [
       "(0.033333333333333333,\n",
       " 0.00088119340622938005,\n",
       " 16666.666666666668,\n",
       " 218784484.35555553,\n",
       " 500000)"
      ]
     },
     "execution_count": 864,
     "metadata": {},
     "output_type": "execute_result"
    }
   ],
   "source": [
    "np.mean(px_new), np.var(px_new), np.mean(sample), np.var(sample), sum(sample)"
   ]
  },
  {
   "cell_type": "code",
   "execution_count": 865,
   "metadata": {
    "collapsed": false
   },
   "outputs": [
    {
     "data": {
      "text/plain": [
       "[<matplotlib.lines.Line2D at 0x10bd39a50>]"
      ]
     },
     "execution_count": 865,
     "metadata": {},
     "output_type": "execute_result"
    },
    {
     "data": {
      "image/png": "[encoded data removed]",
      "text/plain": [
       "<matplotlib.figure.Figure at 0x10bd39290>"
      ]
     },
     "metadata": {},
     "output_type": "display_data"
    }
   ],
   "source": [
    "plt.plot(range(0, Nx,1),np.double(sample)/Nx_resample)\n",
    "plt.plot(range(0, Nx,1),px_new)"
   ]
  },
  {
   "cell_type": "code",
   "execution_count": null,
   "metadata": {
    "collapsed": false
   },
   "outputs": [],
   "source": []
  },
  {
   "cell_type": "code",
   "execution_count": null,
   "metadata": {
    "collapsed": false
   },
   "outputs": [],
   "source": []
  },
  {
   "cell_type": "code",
   "execution_count": null,
   "metadata": {
    "collapsed": false
   },
   "outputs": [],
   "source": []
  },
  {
   "cell_type": "code",
   "execution_count": null,
   "metadata": {
    "collapsed": false
   },
   "outputs": [],
   "source": []
  },
  {
   "cell_type": "code",
   "execution_count": null,
   "metadata": {
    "collapsed": false
   },
   "outputs": [],
   "source": []
  },
  {
   "cell_type": "code",
   "execution_count": null,
   "metadata": {
    "collapsed": true
   },
   "outputs": [],
   "source": []
  }
 ],
 "metadata": {
  "kernelspec": {
   "display_name": "Python 2",
   "language": "python",
   "name": "python2"
  },
  "language_info": {
   "codemirror_mode": {
    "name": "ipython",
    "version": 2
   },
   "file_extension": ".py",
   "mimetype": "text/x-python",
   "name": "python",
   "nbconvert_exporter": "python",
   "pygments_lexer": "ipython2",
   "version": "2.7.10"
  }
 },
 "nbformat": 4,
 "nbformat_minor": 0
}
