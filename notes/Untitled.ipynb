{
 "cells": [
  {
   "cell_type": "code",
   "execution_count": 25,
   "metadata": {
    "collapsed": false
   },
   "outputs": [
    {
     "name": "stdout",
     "output_type": "stream",
     "text": [
      "Once deleted, variables cannot be recovered. Proceed (y/[n])? y\n"
     ]
    }
   ],
   "source": [
    "%reset"
   ]
  },
  {
   "cell_type": "code",
   "execution_count": 819,
   "metadata": {
    "collapsed": false
   },
   "outputs": [
    {
     "data": {
      "text/plain": [
       "<module 'Discrete_Doucet_system' from '/Users/markov/Dropbox/Research/OnGoing_Research/Snapshot/Python_experiment/source/Discrete_Doucet_system.py'>"
      ]
     },
     "execution_count": 819,
     "metadata": {},
     "output_type": "execute_result"
    }
   ],
   "source": [
    "import numpy as np\n",
    "import scipy as sp\n",
    "from matplotlib import pyplot as plt\n",
    "%matplotlib inline\n",
    "import sys\n",
    "sys.path.append(\"/Users/markov/Dropbox/Research/OnGoing_Research/Snapshot/Python_experiment/source\") \n",
    "import Discrete_Doucet_system\n",
    "reload(Discrete_Doucet_system)"
   ]
  },
  {
   "cell_type": "code",
   "execution_count": 820,
   "metadata": {
    "collapsed": false
   },
   "outputs": [
    {
     "data": {
      "text/plain": [
       "(array([  0. ,   0.5,  25. ,   6. ,   0.2]), array([ 3.16227766,  2.23606798]))"
      ]
     },
     "execution_count": 820,
     "metadata": {},
     "output_type": "execute_result"
    }
   ],
   "source": [
    "dsystem = Discrete_Doucet_system.Discrete_Doucet_system()\n",
    "dsystem.theta, dsystem.sigma\n"
   ]
  },
  {
   "cell_type": "code",
   "execution_count": 821,
   "metadata": {
    "collapsed": false
   },
   "outputs": [],
   "source": [
    "init = -1.5\n",
    "Nx0 = 30000\n",
    "\n",
    "x0 = np.array([init]*Nx0 )\n",
    "x0 = np.random.normal(init,  np.sqrt(5) , Nx0)"
   ]
  },
  {
   "cell_type": "code",
   "execution_count": 822,
   "metadata": {
    "collapsed": false
   },
   "outputs": [
    {
     "data": {
      "text/plain": [
       "array([-11.1288645 ,   9.58310761, -13.07687724, ...,  11.36653115,\n",
       "        11.22010102,  16.10781824])"
      ]
     },
     "execution_count": 822,
     "metadata": {},
     "output_type": "execute_result"
    }
   ],
   "source": [
    "T0 = 4\n",
    "xnow = x0\n",
    "pnow = np.power(x0 - init,2)\n",
    "xmean = np.array([0.]*(T0+1))\n",
    "xmean2 = np.array([0.]*(T0+1))\n",
    "\n",
    "xmean[0] = np.mean(x0)\n",
    "xmean2[0] = np.mean(x0)\n",
    "\n",
    "\n",
    "for t  in range(1,T0+1,1):\n",
    "    xnow, pnow = dsystem.update(xnow, pnow)\n",
    "    xmean[t] = np.mean(xnow)\n",
    "    xmean2[t] = np.mean(np.power(xnow,2))\n",
    "\n",
    "    \n",
    "simul  = Discrete_Doucet_system.Simulate(T = T0) \n",
    "powers = [1,2,3]\n",
    "mmts = simul.moment_history(dsystem, powers, Nx = Nx0)\n",
    "\n",
    "xnow"
   ]
  },
  {
   "cell_type": "code",
   "execution_count": 823,
   "metadata": {
    "collapsed": false
   },
   "outputs": [
    {
     "data": {
      "image/png": "[encoded data removed]",
      "text/plain": [
       "<matplotlib.figure.Figure at 0x14f5a3fd0>"
      ]
     },
     "metadata": {},
     "output_type": "display_data"
    }
   ],
   "source": [
    "xplot= plt.hist(xnow,bins=50, normed=True)"
   ]
  },
  {
   "cell_type": "code",
   "execution_count": null,
   "metadata": {
    "collapsed": false
   },
   "outputs": [],
   "source": []
  },
  {
   "cell_type": "code",
   "execution_count": 824,
   "metadata": {
    "collapsed": false
   },
   "outputs": [
    {
     "data": {
      "text/plain": [
       "[<matplotlib.lines.Line2D at 0x10ceea3d0>]"
      ]
     },
     "execution_count": 824,
     "metadata": {},
     "output_type": "execute_result"
    },
    {
     "data": {
      "image/png": "[encoded data removed]",
      "text/plain": [
       "<matplotlib.figure.Figure at 0x14f6fd450>"
      ]
     },
     "metadata": {},
     "output_type": "display_data"
    }
   ],
   "source": [
    "plt.subplot(1,2,0)\n",
    "plt.plot(range(0,T0+1,1), xmean)\n",
    "plt.plot(range(0,T0+1,1), mmts[0])\n",
    "plt.subplot(1,2,1)\n",
    "plt.plot(range(0,T0+1,1), xmean2)\n",
    "plt.plot(range(0,T0+1,1), mmts[1])\n"
   ]
  },
  {
   "cell_type": "code",
   "execution_count": 825,
   "metadata": {
    "collapsed": false
   },
   "outputs": [
    {
     "data": {
      "text/plain": [
       "(array([[ -1.49955584e+00,   4.57130067e-01,  -1.27016824e+00,\n",
       "          -7.59112808e-01,  -1.19127956e+00],\n",
       "        [  7.22116380e+00,   9.20159705e+01,   6.43757535e+01,\n",
       "           8.45090439e+01,   8.32987111e+01],\n",
       "        [ -2.57532378e+01,   9.48646850e+02,   1.17996235e+02,\n",
       "           2.02428987e+02,  -8.74497523e+00]]),\n",
       " array([-1.50977351,  0.36503862, -1.39188933, -0.85906022, -1.30435741]))"
      ]
     },
     "execution_count": 825,
     "metadata": {},
     "output_type": "execute_result"
    }
   ],
   "source": [
    "mmts, xmean"
   ]
  },
  {
   "cell_type": "code",
   "execution_count": 826,
   "metadata": {
    "collapsed": false
   },
   "outputs": [
    {
     "data": {
      "image/png": "[encoded data removed]",
      "text/plain": [
       "<matplotlib.figure.Figure at 0x14f5a3c90>"
      ]
     },
     "metadata": {},
     "output_type": "display_data"
    }
   ],
   "source": [
    "Nx_obs = 3000\n",
    "Nx_dat = 3000\n",
    "xobs = simul.simulate(dsystem, Nx = Nx_obs)\n",
    "xdat = simul.simulate(dsystem, Nx = Nx_dat)\n",
    "plt.subplot(1,2,0)\n",
    "xplot= plt.hist(xobs[0],bins=50, normed=True)\n",
    "plt.subplot(1,2,1)\n",
    "xplot= plt.hist(xdat[0],bins=50, normed=True)"
   ]
  },
  {
   "cell_type": "code",
   "execution_count": null,
   "metadata": {
    "collapsed": true
   },
   "outputs": [],
   "source": []
  },
  {
   "cell_type": "code",
   "execution_count": 827,
   "metadata": {
    "collapsed": false
   },
   "outputs": [
    {
     "data": {
      "text/plain": [
       "((3000, 3000), (3000, 3000))"
      ]
     },
     "execution_count": 827,
     "metadata": {},
     "output_type": "execute_result"
    }
   ],
   "source": [
    "xdatmat = np.matrix([list(xdat[0])] * Nx_obs)\n",
    "xobsmat = np.matrix([list(xobs[0])] * Nx_dat)\n",
    "xdatmat.shape, xobsmat.shape"
   ]
  },
  {
   "cell_type": "code",
   "execution_count": 828,
   "metadata": {
    "collapsed": false
   },
   "outputs": [],
   "source": [
    "diff = np.abs(xdatmat -np.transpose(xobsmat))\n",
    "diffsqr = np.power(diff, 2)"
   ]
  },
  {
   "cell_type": "code",
   "execution_count": 829,
   "metadata": {
    "collapsed": false
   },
   "outputs": [
    {
     "data": {
      "text/plain": [
       "(3000, 3000)"
      ]
     },
     "execution_count": 829,
     "metadata": {},
     "output_type": "execute_result"
    }
   ],
   "source": [
    "diffsqr.shape"
   ]
  },
  {
   "cell_type": "code",
   "execution_count": null,
   "metadata": {
    "collapsed": false
   },
   "outputs": [],
   "source": []
  },
  {
   "cell_type": "code",
   "execution_count": 830,
   "metadata": {
    "collapsed": false
   },
   "outputs": [],
   "source": [
    "#THIS is being done to increase the precision of the exponentiation  \n",
    "pyx = np.exp(-(diffsqr  - np.transpose(np.matrix([[np.min(row) for row in diffsqr]]*Nx_dat))))\n",
    "\n",
    "\n",
    "pyxm = np.matrix([row/np.sum(row) for row in pyx.tolist()])\n",
    "px_new = np.array(np.sum(pyxm, 0))[0] \n",
    "px_new = px_new / sum(px_new)"
   ]
  },
  {
   "cell_type": "code",
   "execution_count": 831,
   "metadata": {
    "collapsed": false
   },
   "outputs": [],
   "source": [
    "Nx_resample = 5000\n",
    "sample = np.random.multinomial(Nx_resample, px_new)"
   ]
  },
  {
   "cell_type": "code",
   "execution_count": 832,
   "metadata": {
    "collapsed": false
   },
   "outputs": [
    {
     "data": {
      "text/plain": [
       "(0.00033333333333333289,\n",
       " 1.0765840670326642e-09,\n",
       " 1.6666666666666667,\n",
       " 1.7268888888888887,\n",
       " 5000)"
      ]
     },
     "execution_count": 832,
     "metadata": {},
     "output_type": "execute_result"
    }
   ],
   "source": [
    "np.mean(px_new), np.var(px_new), np.mean(sample), np.var(sample), sum(sample)"
   ]
  },
  {
   "cell_type": "markdown",
   "metadata": {},
   "source": [
    "Based on observed Nx_obs values, the probability was  imposed on the set of paths of size Nx_dat. \n",
    "We can then resample paths from the computed probability.   The size of resampled set in below is \n",
    "Nx_resample."
   ]
  },
  {
   "cell_type": "code",
   "execution_count": 833,
   "metadata": {
    "collapsed": false
   },
   "outputs": [
    {
     "data": {
      "text/plain": [
       "[<matplotlib.lines.Line2D at 0x1169ba490>]"
      ]
     },
     "execution_count": 833,
     "metadata": {},
     "output_type": "execute_result"
    },
    {
     "data": {
      "image/png": "[encoded data removed]",
      "text/plain": [
       "<matplotlib.figure.Figure at 0x14bf8b290>"
      ]
     },
     "metadata": {},
     "output_type": "display_data"
    }
   ],
   "source": [
    "plt.plot(range(0, Nx_dat,1),np.double(sample)/Nx_resample)\n",
    "plt.plot(range(0, Nx_dat,1),px_new)"
   ]
  },
  {
   "cell_type": "markdown",
   "metadata": {},
   "source": [
    "Larger number of resampling gives.... "
   ]
  },
  {
   "cell_type": "code",
   "execution_count": 834,
   "metadata": {
    "collapsed": false
   },
   "outputs": [
    {
     "data": {
      "text/plain": [
       "[<matplotlib.lines.Line2D at 0x10ce77550>]"
      ]
     },
     "execution_count": 834,
     "metadata": {},
     "output_type": "execute_result"
    },
    {
     "data": {
      "image/png": "[encoded data removed]",
      "text/plain": [
       "<matplotlib.figure.Figure at 0x10ce77bd0>"
      ]
     },
     "metadata": {},
     "output_type": "display_data"
    }
   ],
   "source": [
    "Nx_resample2 = 1000000\n",
    "sample = np.random.multinomial(Nx_resample2, px_new)\n",
    "plt.plot(range(0, Nx_dat,1),np.double(sample)/Nx_resample2)\n",
    "plt.plot(range(0, Nx_dat,1),px_new)"
   ]
  },
  {
   "cell_type": "markdown",
   "metadata": {},
   "source": [
    "The ordered version of the probability over paths(?) "
   ]
  },
  {
   "cell_type": "code",
   "execution_count": 835,
   "metadata": {
    "collapsed": false
   },
   "outputs": [
    {
     "data": {
      "text/plain": [
       "[<matplotlib.lines.Line2D at 0x15107cb10>]"
      ]
     },
     "execution_count": 835,
     "metadata": {},
     "output_type": "execute_result"
    },
    {
     "data": {
      "image/png": "[encoded data removed]",
      "text/plain": [
       "<matplotlib.figure.Figure at 0x10ba09550>"
      ]
     },
     "metadata": {},
     "output_type": "display_data"
    }
   ],
   "source": [
    "xdat_ordered = np.sort(xdat[0])\n",
    "px_new_ordered = px_new[np.argsort(xdat[0])]\n",
    "\n",
    "plt.plot(xdat_ordered, px_new_ordered)"
   ]
  },
  {
   "cell_type": "markdown",
   "metadata": {},
   "source": [
    "As obvious as it may be,  I do not really need to do the resampling.  I can use the computed $px_new$ directly.\n",
    "We merely need to do the maximization ofthe expectation of : \n",
    "\n",
    "$$ \\textrm{Dir} \\left( \\alpha H(\\theta_{old}) + \\sum_i  p_{x_i}(\\{ x_{obs} \\} ) \\delta_{x_i}    \\right)  $$ \n",
    "\n",
    "Still yet, I cannot take the derivative of the expecation with respect to $\\alpha H(\\theta_{old}) $\n",
    "so I DO need to take sample from $H(\\theta_{old})$ and impose an appropriate weight. \n",
    "\n",
    "I need \n",
    "(1) p_{x_i}(\\{ x_{obs} \\})\n",
    "(2) sum of beta_i and  A_i over all paths (From re-weighted previous AND new) \n",
    "I NEED to STORE the sum of A and sum of B for all simulations. "
   ]
  },
  {
   "cell_type": "code",
   "execution_count": 836,
   "metadata": {
    "collapsed": false
   },
   "outputs": [
    {
     "data": {
      "image/png": "[encoded data removed]",
      "text/plain": [
       "<matplotlib.figure.Figure at 0x150bb8450>"
      ]
     },
     "metadata": {},
     "output_type": "display_data"
    }
   ],
   "source": [
    "theta_approx = np.array([-1.5, 0., 0., 0., 0.])\n",
    "dsystem_approx = Discrete_Doucet_system.Discrete_Doucet_system(theta= theta_approx)\n",
    "\n",
    "Nx_obs = 3000\n",
    "Nx_dat = 3000\n",
    "xobs,pobs = simul.simulate(dsystem, Nx = Nx_obs)\n",
    "xdat, pdat= simul.simulate(dsystem_approx, Nx = Nx_dat)\n",
    "xplot= plt.hist(xobs,bins=50, normed=True)\n",
    "xplot= plt.hist(xdat,bins=50, normed=True)\n",
    "\n",
    "\n",
    "xdatmat = np.matrix([list(xdat)] * Nx_obs)\n",
    "xobsmat = np.matrix([list(xobs)] * Nx_dat)\n",
    "xdatmat.shape, xobsmat.shape\n",
    "diff = np.abs(xdatmat -np.transpose(xobsmat))\n",
    "diffsqr = np.power(diff, 2)\n",
    "\n",
    "\n",
    "pyx = np.exp(-(diffsqr  - np.transpose(np.matrix([[np.min(row) for row in diffsqr]]*Nx_dat))))\n",
    "\n",
    "\n",
    "pyxm = np.matrix([row/np.sum(row) for row in pyx.tolist()])\n",
    "px_new = np.array(np.sum(pyxm, 0))[0] \n",
    "px_new = px_new / sum(px_new)\n",
    "\n"
   ]
  },
  {
   "cell_type": "code",
   "execution_count": 837,
   "metadata": {
    "collapsed": false
   },
   "outputs": [
    {
     "data": {
      "text/plain": [
       "[<matplotlib.lines.Line2D at 0x1510b2390>]"
      ]
     },
     "execution_count": 837,
     "metadata": {},
     "output_type": "execute_result"
    },
    {
     "data": {
      "image/png": "[encoded data removed]",
      "text/plain": [
       "<matplotlib.figure.Figure at 0x1510b2210>"
      ]
     },
     "metadata": {},
     "output_type": "display_data"
    }
   ],
   "source": [
    "Nx_resample2 = 1000000\n",
    "sample = np.random.multinomial(Nx_resample2, px_new)\n",
    "plt.plot(range(0, Nx_dat,1),np.double(sample)/Nx_resample2)\n",
    "plt.plot(range(0, Nx_dat,1),px_new)"
   ]
  },
  {
   "cell_type": "code",
   "execution_count": 838,
   "metadata": {
    "collapsed": false
   },
   "outputs": [
    {
     "data": {
      "text/plain": [
       "[<matplotlib.lines.Line2D at 0x12a6c1110>]"
      ]
     },
     "execution_count": 838,
     "metadata": {},
     "output_type": "execute_result"
    },
    {
     "data": {
      "image/png": "[encoded data removed]",
      "text/plain": [
       "<matplotlib.figure.Figure at 0x1510b2c90>"
      ]
     },
     "metadata": {},
     "output_type": "display_data"
    }
   ],
   "source": [
    "xdat_ordered = np.sort(xdat)\n",
    "px_new_ordered = px_new[np.argsort(xdat)]\n",
    "\n",
    "plt.plot(xdat_ordered, px_new_ordered)"
   ]
  },
  {
   "cell_type": "markdown",
   "metadata": {
    "collapsed": false
   },
   "source": [
    "Let's check that the formula itself is correct and yields approximately same answer when starting with the correct parameters: "
   ]
  },
  {
   "cell_type": "code",
   "execution_count": 839,
   "metadata": {
    "collapsed": false
   },
   "outputs": [
    {
     "data": {
      "text/plain": [
       "array([ -4612.11451326,  37733.97983173,   2157.92373534,  -2045.63092647])"
      ]
     },
     "execution_count": 839,
     "metadata": {},
     "output_type": "execute_result"
    }
   ],
   "source": [
    "(np.array(dsystem.jacob(xdat))* np.array(xdat)).sum(axis = 1) "
   ]
  },
  {
   "cell_type": "code",
   "execution_count": 840,
   "metadata": {
    "collapsed": false
   },
   "outputs": [
    {
     "data": {
      "text/plain": [
       "(array([[0, 1, 2],\n",
       "        [3, 4, 5],\n",
       "        [6, 7, 8]]), array([[ 0, 10, 20]]), numpy.ndarray, numpy.ndarray)"
      ]
     },
     "execution_count": 840,
     "metadata": {},
     "output_type": "execute_result"
    }
   ],
   "source": [
    "ffih = np.array(range(0,9)).reshape([3,3])\n",
    "xx  = (np.array(range(0,3))*10).reshape([1,3])\n",
    "ffih, xx, type(xx), type(ffih)"
   ]
  },
  {
   "cell_type": "code",
   "execution_count": 841,
   "metadata": {
    "collapsed": false
   },
   "outputs": [
    {
     "data": {
      "text/plain": [
       "array([[  0,  10,  40],\n",
       "       [  0,  40, 100],\n",
       "       [  0,  70, 160]])"
      ]
     },
     "execution_count": 841,
     "metadata": {},
     "output_type": "execute_result"
    }
   ],
   "source": [
    "ffih * xx"
   ]
  },
  {
   "cell_type": "code",
   "execution_count": 842,
   "metadata": {
    "collapsed": false
   },
   "outputs": [
    {
     "data": {
      "text/plain": [
       "array([[  0,   0,   0],\n",
       "       [ 30,  40,  50],\n",
       "       [120, 140, 160]])"
      ]
     },
     "execution_count": 842,
     "metadata": {},
     "output_type": "execute_result"
    }
   ],
   "source": [
    "ffih * xx.transpose()"
   ]
  },
  {
   "cell_type": "code",
   "execution_count": null,
   "metadata": {
    "collapsed": false
   },
   "outputs": [],
   "source": []
  },
  {
   "cell_type": "code",
   "execution_count": 843,
   "metadata": {
    "collapsed": false
   },
   "outputs": [],
   "source": [
    "reload(Discrete_Doucet_system)\n",
    "simul  = Discrete_Doucet_system.Simulate(T = T0) \n",
    "\n",
    "dsystem = Discrete_Doucet_system.Discrete_Doucet_system()\n"
   ]
  },
  {
   "cell_type": "code",
   "execution_count": 844,
   "metadata": {
    "collapsed": false
   },
   "outputs": [
    {
     "data": {
      "text/plain": [
       "(numpy.ndarray, numpy.ndarray, numpy.matrixlib.defmatrix.matrix, numpy.ndarray)"
      ]
     },
     "execution_count": 844,
     "metadata": {},
     "output_type": "execute_result"
    }
   ],
   "source": [
    "xdat, pdat, A, B = simul.simulate(dsystem, 50000, stat= True)\n",
    "type(xdat), type(pdat), type(A), type(B)"
   ]
  },
  {
   "cell_type": "code",
   "execution_count": 845,
   "metadata": {
    "collapsed": false
   },
   "outputs": [
    {
     "data": {
      "text/plain": [
       "matrix([[  9.78866872e-03],\n",
       "        [  4.99176141e-01],\n",
       "        [  2.49789192e+01],\n",
       "        [  5.98936442e+00]])"
      ]
     },
     "execution_count": 845,
     "metadata": {},
     "output_type": "execute_result"
    }
   ],
   "source": [
    "np.linalg.inv(A) * np.matrix(B).transpose()"
   ]
  },
  {
   "cell_type": "code",
   "execution_count": 846,
   "metadata": {
    "collapsed": false
   },
   "outputs": [
    {
     "data": {
      "text/plain": [
       "(4, 50000)"
      ]
     },
     "execution_count": 846,
     "metadata": {},
     "output_type": "execute_result"
    }
   ],
   "source": [
    "dsystem.jacob(xdat).shape"
   ]
  },
  {
   "cell_type": "code",
   "execution_count": 847,
   "metadata": {
    "collapsed": false
   },
   "outputs": [
    {
     "data": {
      "text/plain": [
       "((4, 1000), (4, 3000))"
      ]
     },
     "execution_count": 847,
     "metadata": {},
     "output_type": "execute_result"
    }
   ],
   "source": [
    "xobs,pobs = simul.simulate(dsystem, Nx = 1000)\n",
    "xdat,pdat = simul.simulate(dsystem, Nx = 3000)\n",
    "\n",
    "dsystem.jacob(xobs).shape, dsystem.jacob(xdat).shape"
   ]
  },
  {
   "cell_type": "code",
   "execution_count": 848,
   "metadata": {
    "collapsed": false
   },
   "outputs": [],
   "source": [
    "px = dsystem.compare(xdat, xobs) "
   ]
  },
  {
   "cell_type": "code",
   "execution_count": 849,
   "metadata": {
    "collapsed": false
   },
   "outputs": [
    {
     "data": {
      "text/plain": [
       "[<matplotlib.lines.Line2D at 0x14195de50>]"
      ]
     },
     "execution_count": 849,
     "metadata": {},
     "output_type": "execute_result"
    },
    {
     "data": {
      "image/png": "[encoded data removed]",
      "text/plain": [
       "<matplotlib.figure.Figure at 0x1062ee390>"
      ]
     },
     "metadata": {},
     "output_type": "display_data"
    }
   ],
   "source": [
    "xdat_ordered = np.sort(xdat)\n",
    "px_new_ordered = px[np.argsort(xdat)]\n",
    "\n",
    "plt.plot(xdat_ordered, px_new_ordered)"
   ]
  },
  {
   "cell_type": "code",
   "execution_count": 850,
   "metadata": {
    "collapsed": false
   },
   "outputs": [
    {
     "data": {
      "text/plain": [
       "((3000,), (4, 3000), numpy.ndarray, numpy.matrixlib.defmatrix.matrix)"
      ]
     },
     "execution_count": 850,
     "metadata": {},
     "output_type": "execute_result"
    }
   ],
   "source": [
    "px.shape,    dsystem.jacob(xdat).shape,  type(px),  type(dsystem.jacob(xdat))"
   ]
  },
  {
   "cell_type": "code",
   "execution_count": 851,
   "metadata": {
    "collapsed": false
   },
   "outputs": [
    {
     "data": {
      "text/plain": [
       "array([[  3.17202688e-04,   3.38592854e-04,   3.42279225e-04, ...,\n",
       "          3.38594980e-04,   2.64317293e-04,   3.13828088e-04],\n",
       "       [ -5.53189774e-03,  -1.12472005e-03,  -1.33096347e-03, ...,\n",
       "         -1.12549374e-03,   4.70127947e-05,   3.39091883e-03],\n",
       "       [ -1.81290054e-05,  -9.34617995e-05,  -8.25625127e-05, ...,\n",
       "         -9.34092953e-05,   4.55711091e-05,   2.87979884e-05],\n",
       "       [ -2.98368346e-04,   2.66580244e-04,   2.43882440e-04, ...,\n",
       "          2.66487358e-04,   2.64150072e-04,  -1.74655879e-04]])"
      ]
     },
     "execution_count": 851,
     "metadata": {},
     "output_type": "execute_result"
    }
   ],
   "source": [
    "np.array(dsystem.jacob(xdat)) * px"
   ]
  },
  {
   "cell_type": "code",
   "execution_count": 852,
   "metadata": {
    "collapsed": false
   },
   "outputs": [
    {
     "data": {
      "text/plain": [
       "(numpy.ndarray, numpy.ndarray, numpy.matrixlib.defmatrix.matrix, numpy.ndarray)"
      ]
     },
     "execution_count": 852,
     "metadata": {},
     "output_type": "execute_result"
    }
   ],
   "source": [
    "reload(Discrete_Doucet_system)\n",
    "dsystem = Discrete_Doucet_system.Discrete_Doucet_system()\n",
    "simul  = Discrete_Doucet_system.Simulate(T = T0) \n",
    "xdat, pdat, A, B = simul.simulate(dsystem, 10000, stat= True)\n",
    "type(xdat), type(pdat), type(A), type(B)"
   ]
  },
  {
   "cell_type": "code",
   "execution_count": 853,
   "metadata": {
    "collapsed": false
   },
   "outputs": [
    {
     "data": {
      "text/plain": [
       "((10000,), (4, 10000))"
      ]
     },
     "execution_count": 853,
     "metadata": {},
     "output_type": "execute_result"
    }
   ],
   "source": [
    "xdat.shape, dsystem.jacob(xdat).shape"
   ]
  },
  {
   "cell_type": "code",
   "execution_count": 854,
   "metadata": {
    "collapsed": false
   },
   "outputs": [],
   "source": [
    "k =1\n",
    "Adashp= np.zeros([len(xdat), R,R])\n",
    "for k in range(0, len(xdat)):\n",
    "    Adashp[k] = dsystem.jacob(xdat)[:,k] *  dsystem.jacob(xdat)[:,k].transpose()\n"
   ]
  },
  {
   "cell_type": "code",
   "execution_count": 855,
   "metadata": {
    "collapsed": false
   },
   "outputs": [
    {
     "data": {
      "text/plain": [
       "(10000, 4, 4)"
      ]
     },
     "execution_count": 855,
     "metadata": {},
     "output_type": "execute_result"
    }
   ],
   "source": [
    "\n",
    "Adashp.shape"
   ]
  },
  {
   "cell_type": "code",
   "execution_count": 862,
   "metadata": {
    "collapsed": false
   },
   "outputs": [],
   "source": [
    "nseed = 15\n",
    "np.random.seed(15)"
   ]
  },
  {
   "cell_type": "code",
   "execution_count": 857,
   "metadata": {
    "collapsed": true
   },
   "outputs": [],
   "source": [
    "test = np.random.normal(0,1,[2,5])"
   ]
  },
  {
   "cell_type": "code",
   "execution_count": null,
   "metadata": {
    "collapsed": false
   },
   "outputs": [],
   "source": []
  },
  {
   "cell_type": "code",
   "execution_count": null,
   "metadata": {
    "collapsed": false
   },
   "outputs": [],
   "source": []
  },
  {
   "cell_type": "code",
   "execution_count": null,
   "metadata": {
    "collapsed": false
   },
   "outputs": [],
   "source": []
  },
  {
   "cell_type": "code",
   "execution_count": null,
   "metadata": {
    "collapsed": true
   },
   "outputs": [],
   "source": []
  }
 ],
 "metadata": {
  "kernelspec": {
   "display_name": "Python 2",
   "language": "python",
   "name": "python2"
  },
  "language_info": {
   "codemirror_mode": {
    "name": "ipython",
    "version": 2
   },
   "file_extension": ".py",
   "mimetype": "text/x-python",
   "name": "python",
   "nbconvert_exporter": "python",
   "pygments_lexer": "ipython2",
   "version": "2.7.10"
  }
 },
 "nbformat": 4,
 "nbformat_minor": 0
}
