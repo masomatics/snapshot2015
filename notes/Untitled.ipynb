{
 "cells": [
  {
   "cell_type": "code",
   "execution_count": 25,
   "metadata": {
    "collapsed": false
   },
   "outputs": [
    {
     "name": "stdout",
     "output_type": "stream",
     "text": [
      "Once deleted, variables cannot be recovered. Proceed (y/[n])? y\n"
     ]
    }
   ],
   "source": [
    "%reset"
   ]
  },
  {
   "cell_type": "code",
   "execution_count": 518,
   "metadata": {
    "collapsed": false
   },
   "outputs": [
    {
     "data": {
      "text/plain": [
       "<module 'Discrete_Doucet_system' from '/Users/markov/Dropbox/Research/OnGoing_Research/Snapshot/Python_experiment/source/Discrete_Doucet_system.py'>"
      ]
     },
     "execution_count": 518,
     "metadata": {},
     "output_type": "execute_result"
    }
   ],
   "source": [
    "import numpy as np\n",
    "import scipy as sp\n",
    "from matplotlib import pyplot as plt\n",
    "%matplotlib inline\n",
    "import sys\n",
    "sys.path.append(\"/Users/markov/Dropbox/Research/OnGoing_Research/Snapshot/Python_experiment/source\") \n",
    "import Discrete_Doucet_system\n",
    "reload(Discrete_Doucet_system)"
   ]
  },
  {
   "cell_type": "code",
   "execution_count": 446,
   "metadata": {
    "collapsed": false
   },
   "outputs": [
    {
     "data": {
      "text/plain": [
       "(array([  0. ,   0.5,  25. ,   6. ,   0.2]), array([ 3.16227766,  2.23606798]))"
      ]
     },
     "execution_count": 446,
     "metadata": {},
     "output_type": "execute_result"
    }
   ],
   "source": [
    "dsystem = Discrete_Doucet_system.Discrete_Doucet_system()\n",
    "dsystem.theta, dsystem.sigma\n"
   ]
  },
  {
   "cell_type": "code",
   "execution_count": 447,
   "metadata": {
    "collapsed": false
   },
   "outputs": [],
   "source": [
    "init = -1.5\n",
    "Nx0 = 30000\n",
    "\n",
    "x0 = np.array([init]*Nx0 )\n",
    "x0 = np.random.normal(init,  np.sqrt(5) , Nx0)"
   ]
  },
  {
   "cell_type": "code",
   "execution_count": 448,
   "metadata": {
    "collapsed": false
   },
   "outputs": [
    {
     "data": {
      "text/plain": [
       "array([ -5.31927381, -11.16765109,   2.32197654, ..., -15.95562851,\n",
       "        -6.76837404,  -6.32503315])"
      ]
     },
     "execution_count": 448,
     "metadata": {},
     "output_type": "execute_result"
    }
   ],
   "source": [
    "T0 = 4\n",
    "xnow = x0\n",
    "pnow = np.power(x0 - init,2)\n",
    "xmean = np.array([0.]*(T0+1))\n",
    "xmean2 = np.array([0.]*(T0+1))\n",
    "\n",
    "xmean[0] = np.mean(x0)\n",
    "xmean2[0] = np.mean(x0)\n",
    "\n",
    "\n",
    "for t  in range(1,T0+1,1):\n",
    "    xnow, pnow = dsystem.update(xnow, pnow)\n",
    "    xmean[t] = np.mean(xnow)\n",
    "    xmean2[t] = np.mean(np.power(xnow,2))\n",
    "\n",
    "    \n",
    "simul  = Discrete_Doucet_system.Simulate(T = T0) \n",
    "powers = [1,2,3]\n",
    "mmts = simul.moment_history(dsystem, powers, Nx = Nx0)\n",
    "\n",
    "xnow"
   ]
  },
  {
   "cell_type": "code",
   "execution_count": 449,
   "metadata": {
    "collapsed": false
   },
   "outputs": [
    {
     "data": {
      "image/png": "[encoded data removed]",
      "text/plain": [
       "<matplotlib.figure.Figure at 0x14bfbfd50>"
      ]
     },
     "metadata": {},
     "output_type": "display_data"
    }
   ],
   "source": [
    "xplot= plt.hist(xnow,bins=50, normed=True)"
   ]
  },
  {
   "cell_type": "code",
   "execution_count": null,
   "metadata": {
    "collapsed": false
   },
   "outputs": [],
   "source": []
  },
  {
   "cell_type": "code",
   "execution_count": 450,
   "metadata": {
    "collapsed": false
   },
   "outputs": [
    {
     "data": {
      "text/plain": [
       "[<matplotlib.lines.Line2D at 0x14f982fd0>]"
      ]
     },
     "execution_count": 450,
     "metadata": {},
     "output_type": "execute_result"
    },
    {
     "data": {
      "image/png": "[encoded data removed]",
      "text/plain": [
       "<matplotlib.figure.Figure at 0x14f720cd0>"
      ]
     },
     "metadata": {},
     "output_type": "display_data"
    }
   ],
   "source": [
    "plt.subplot(1,2,0)\n",
    "plt.plot(range(0,T0+1,1), xmean)\n",
    "plt.plot(range(0,T0+1,1), mmts[0])\n",
    "plt.subplot(1,2,1)\n",
    "plt.plot(range(0,T0+1,1), xmean2)\n",
    "plt.plot(range(0,T0+1,1), mmts[1])\n"
   ]
  },
  {
   "cell_type": "code",
   "execution_count": 451,
   "metadata": {
    "collapsed": false
   },
   "outputs": [
    {
     "data": {
      "text/plain": [
       "(array([[ -1.51859462e+00,   3.55168768e-01,  -1.37289777e+00,\n",
       "          -7.95895243e-01,  -1.25232471e+00],\n",
       "        [  7.30868225e+00,   9.13986284e+01,   6.40950594e+01,\n",
       "           8.41907227e+01,   8.27460543e+01],\n",
       "        [ -2.59280270e+01,   9.41627089e+02,   1.11126491e+02,\n",
       "           2.07794275e+02,  -8.00747529e+00]]),\n",
       " array([-1.49182793,  0.4489935 , -1.33928205, -0.72655177, -1.22543681]))"
      ]
     },
     "execution_count": 451,
     "metadata": {},
     "output_type": "execute_result"
    }
   ],
   "source": [
    "mmts, xmean"
   ]
  },
  {
   "cell_type": "code",
   "execution_count": 660,
   "metadata": {
    "collapsed": false
   },
   "outputs": [
    {
     "data": {
      "image/png": "[encoded data removed]",
      "text/plain": [
       "<matplotlib.figure.Figure at 0x150a86b50>"
      ]
     },
     "metadata": {},
     "output_type": "display_data"
    }
   ],
   "source": [
    "Nx_obs = 3000\n",
    "Nx_dat = 3000\n",
    "xobs = simul.simulate(dsystem, Nx = Nx_obs)\n",
    "xdat = simul.simulate(dsystem, Nx = Nx_dat)\n",
    "plt.subplot(1,2,0)\n",
    "xplot= plt.hist(xobs[0],bins=50, normed=True)\n",
    "plt.subplot(1,2,1)\n",
    "xplot= plt.hist(xdat[0],bins=50, normed=True)"
   ]
  },
  {
   "cell_type": "code",
   "execution_count": null,
   "metadata": {
    "collapsed": true
   },
   "outputs": [],
   "source": []
  },
  {
   "cell_type": "code",
   "execution_count": 661,
   "metadata": {
    "collapsed": false
   },
   "outputs": [
    {
     "data": {
      "text/plain": [
       "((3000, 3000), (3000, 3000))"
      ]
     },
     "execution_count": 661,
     "metadata": {},
     "output_type": "execute_result"
    }
   ],
   "source": [
    "xdatmat = np.matrix([list(xdat[0])] * Nx_obs)\n",
    "xobsmat = np.matrix([list(xobs[0])] * Nx_dat)\n",
    "xdatmat.shape, xobsmat.shape"
   ]
  },
  {
   "cell_type": "code",
   "execution_count": 662,
   "metadata": {
    "collapsed": false
   },
   "outputs": [],
   "source": [
    "diff = np.abs(xdatmat -np.transpose(xobsmat))\n",
    "diffsqr = np.power(diff, 2)"
   ]
  },
  {
   "cell_type": "code",
   "execution_count": 663,
   "metadata": {
    "collapsed": false
   },
   "outputs": [
    {
     "data": {
      "text/plain": [
       "(3000, 3000)"
      ]
     },
     "execution_count": 663,
     "metadata": {},
     "output_type": "execute_result"
    }
   ],
   "source": [
    "diffsqr.shape"
   ]
  },
  {
   "cell_type": "code",
   "execution_count": null,
   "metadata": {
    "collapsed": false
   },
   "outputs": [],
   "source": []
  },
  {
   "cell_type": "code",
   "execution_count": 664,
   "metadata": {
    "collapsed": false
   },
   "outputs": [],
   "source": [
    "#THIS is being done to increase the precision of the exponentiation  \n",
    "pyx = np.exp(-(diffsqr  - np.transpose(np.matrix([[np.min(row) for row in diffsqr]]*Nx_dat))))\n",
    "\n",
    "\n",
    "pyxm = np.matrix([row/np.sum(row) for row in pyx.tolist()])\n",
    "px_new = np.array(np.sum(pyxm, 0))[0] \n",
    "px_new = px_new / sum(px_new)"
   ]
  },
  {
   "cell_type": "code",
   "execution_count": 665,
   "metadata": {
    "collapsed": false
   },
   "outputs": [],
   "source": [
    "Nx_resample = 5000\n",
    "sample = np.random.multinomial(Nx_resample, px_new)"
   ]
  },
  {
   "cell_type": "code",
   "execution_count": 666,
   "metadata": {
    "collapsed": false
   },
   "outputs": [
    {
     "data": {
      "text/plain": [
       "(0.0003333333333333337,\n",
       " 9.0886782833020983e-10,\n",
       " 1.6666666666666667,\n",
       " 1.6802222222222223,\n",
       " 5000)"
      ]
     },
     "execution_count": 666,
     "metadata": {},
     "output_type": "execute_result"
    }
   ],
   "source": [
    "np.mean(px_new), np.var(px_new), np.mean(sample), np.var(sample), sum(sample)"
   ]
  },
  {
   "cell_type": "markdown",
   "metadata": {},
   "source": [
    "Based on observed Nx_obs values, the probability was  imposed on the set of paths of size Nx_dat. \n",
    "We can then resample paths from the computed probability.   The size of resampled set in below is \n",
    "Nx_resample."
   ]
  },
  {
   "cell_type": "code",
   "execution_count": 667,
   "metadata": {
    "collapsed": false
   },
   "outputs": [
    {
     "data": {
      "text/plain": [
       "[<matplotlib.lines.Line2D at 0x150ae7c90>]"
      ]
     },
     "execution_count": 667,
     "metadata": {},
     "output_type": "execute_result"
    },
    {
     "data": {
      "image/png": "[encoded data removed]",
      "text/plain": [
       "<matplotlib.figure.Figure at 0x13d2f6710>"
      ]
     },
     "metadata": {},
     "output_type": "display_data"
    }
   ],
   "source": [
    "plt.plot(range(0, Nx_dat,1),np.double(sample)/Nx_resample)\n",
    "plt.plot(range(0, Nx_dat,1),px_new)"
   ]
  },
  {
   "cell_type": "markdown",
   "metadata": {},
   "source": [
    "Larger number of resampling gives.... "
   ]
  },
  {
   "cell_type": "code",
   "execution_count": 668,
   "metadata": {
    "collapsed": false
   },
   "outputs": [
    {
     "data": {
      "text/plain": [
       "[<matplotlib.lines.Line2D at 0x10edbdf10>]"
      ]
     },
     "execution_count": 668,
     "metadata": {},
     "output_type": "execute_result"
    },
    {
     "data": {
      "image/png": "[encoded data removed]",
      "text/plain": [
       "<matplotlib.figure.Figure at 0x119404c90>"
      ]
     },
     "metadata": {},
     "output_type": "display_data"
    }
   ],
   "source": [
    "Nx_resample2 = 1000000\n",
    "sample = np.random.multinomial(Nx_resample2, px_new)\n",
    "plt.plot(range(0, Nx_dat,1),np.double(sample)/Nx_resample2)\n",
    "plt.plot(range(0, Nx_dat,1),px_new)"
   ]
  },
  {
   "cell_type": "markdown",
   "metadata": {},
   "source": [
    "The ordered version of the probability over paths(?) "
   ]
  },
  {
   "cell_type": "code",
   "execution_count": 669,
   "metadata": {
    "collapsed": false
   },
   "outputs": [
    {
     "data": {
      "text/plain": [
       "[<matplotlib.lines.Line2D at 0x128a073d0>]"
      ]
     },
     "execution_count": 669,
     "metadata": {},
     "output_type": "execute_result"
    },
    {
     "data": {
      "image/png": "[encoded data removed]",
      "text/plain": [
       "<matplotlib.figure.Figure at 0x12863c310>"
      ]
     },
     "metadata": {},
     "output_type": "display_data"
    }
   ],
   "source": [
    "xdat_ordered = np.sort(xdat[0])\n",
    "px_new_ordered = px_new[np.argsort(xdat[0])]\n",
    "\n",
    "plt.plot(xdat_ordered, px_new_ordered)"
   ]
  },
  {
   "cell_type": "markdown",
   "metadata": {},
   "source": [
    "As obvious as it may be,  I do not really need to do the resampling.  I can use the computed $px_new$ directly.\n",
    "We merely need to do the maximization ofthe expectation of : \n",
    "\n",
    "$$ \\textrm{Dir} \\left( \\alpha H(\\theta_{old}) + \\sum_i  p_{x_i}(\\{ x_{obs} \\} ) \\delta_{x_i}    \\right)  $$ \n",
    "\n",
    "Still yet, I cannot take the derivative of the expecation with respect to $\\alpha H(\\theta_{old}) $\n",
    "so I DO need to take sample from $H(\\theta_{old})$ and impose an appropriate weight. \n",
    "\n",
    "I need \n",
    "(1) p_{x_i}(\\{ x_{obs} \\})\n",
    "(2) sum of beta_i and  A_i over all paths (From re-weighted previous AND new) \n",
    "I NEED to STORE the sum of A and sum of B for all simulations. "
   ]
  },
  {
   "cell_type": "code",
   "execution_count": 670,
   "metadata": {
    "collapsed": false
   },
   "outputs": [
    {
     "data": {
      "image/png": "[encoded data removed]",
      "text/plain": [
       "<matplotlib.figure.Figure at 0x14f086c10>"
      ]
     },
     "metadata": {},
     "output_type": "display_data"
    }
   ],
   "source": [
    "theta_approx = np.array([-1.5, 0., 0., 0., 0.])\n",
    "dsystem_approx = Discrete_Doucet_system.Discrete_Doucet_system(theta= theta_approx)\n",
    "\n",
    "Nx_obs = 3000\n",
    "Nx_dat = 3000\n",
    "xobs,pobs = simul.simulate(dsystem, Nx = Nx_obs)\n",
    "xdat, pdat= simul.simulate(dsystem_approx, Nx = Nx_dat)\n",
    "xplot= plt.hist(xobs,bins=50, normed=True)\n",
    "xplot= plt.hist(xdat,bins=50, normed=True)\n",
    "\n",
    "\n",
    "xdatmat = np.matrix([list(xdat)] * Nx_obs)\n",
    "xobsmat = np.matrix([list(xobs)] * Nx_dat)\n",
    "xdatmat.shape, xobsmat.shape\n",
    "diff = np.abs(xdatmat -np.transpose(xobsmat))\n",
    "diffsqr = np.power(diff, 2)\n",
    "\n",
    "\n",
    "pyx = np.exp(-(diffsqr  - np.transpose(np.matrix([[np.min(row) for row in diffsqr]]*Nx_dat))))\n",
    "\n",
    "\n",
    "pyxm = np.matrix([row/np.sum(row) for row in pyx.tolist()])\n",
    "px_new = np.array(np.sum(pyxm, 0))[0] \n",
    "px_new = px_new / sum(px_new)\n",
    "\n"
   ]
  },
  {
   "cell_type": "code",
   "execution_count": 671,
   "metadata": {
    "collapsed": false
   },
   "outputs": [
    {
     "data": {
      "text/plain": [
       "[<matplotlib.lines.Line2D at 0x128a3a550>]"
      ]
     },
     "execution_count": 671,
     "metadata": {},
     "output_type": "execute_result"
    },
    {
     "data": {
      "image/png": "[encoded data removed]",
      "text/plain": [
       "<matplotlib.figure.Figure at 0x128a3a690>"
      ]
     },
     "metadata": {},
     "output_type": "display_data"
    }
   ],
   "source": [
    "Nx_resample2 = 1000000\n",
    "sample = np.random.multinomial(Nx_resample2, px_new)\n",
    "plt.plot(range(0, Nx_dat,1),np.double(sample)/Nx_resample2)\n",
    "plt.plot(range(0, Nx_dat,1),px_new)"
   ]
  },
  {
   "cell_type": "code",
   "execution_count": 672,
   "metadata": {
    "collapsed": false
   },
   "outputs": [
    {
     "data": {
      "text/plain": [
       "[<matplotlib.lines.Line2D at 0x1294cfb10>]"
      ]
     },
     "execution_count": 672,
     "metadata": {},
     "output_type": "execute_result"
    },
    {
     "data": {
      "image/png": "[encoded data removed]",
      "text/plain": [
       "<matplotlib.figure.Figure at 0x128a3ad90>"
      ]
     },
     "metadata": {},
     "output_type": "display_data"
    }
   ],
   "source": [
    "xdat_ordered = np.sort(xdat)\n",
    "px_new_ordered = px_new[np.argsort(xdat)]\n",
    "\n",
    "plt.plot(xdat_ordered, px_new_ordered)"
   ]
  },
  {
   "cell_type": "markdown",
   "metadata": {
    "collapsed": false
   },
   "source": [
    "Let's check that the formula itself is correct and yields approximately same answer when starting with the correct parameters: "
   ]
  },
  {
   "cell_type": "code",
   "execution_count": 673,
   "metadata": {
    "collapsed": false
   },
   "outputs": [
    {
     "data": {
      "text/plain": [
       "array([ -4706.55827516,  39011.21326157,   2145.77854859,  -2017.90250795])"
      ]
     },
     "execution_count": 673,
     "metadata": {},
     "output_type": "execute_result"
    }
   ],
   "source": [
    "(np.array(dsystem.jacob(xdat))* np.array(xdat)).sum(axis = 1) "
   ]
  },
  {
   "cell_type": "code",
   "execution_count": 674,
   "metadata": {
    "collapsed": false
   },
   "outputs": [
    {
     "data": {
      "text/plain": [
       "(array([[0, 1, 2],\n",
       "        [3, 4, 5],\n",
       "        [6, 7, 8]]), array([[ 0, 10, 20]]), numpy.ndarray, numpy.ndarray)"
      ]
     },
     "execution_count": 674,
     "metadata": {},
     "output_type": "execute_result"
    }
   ],
   "source": [
    "ffih = np.array(range(0,9)).reshape([3,3])\n",
    "xx  = (np.array(range(0,3))*10).reshape([1,3])\n",
    "ffih, xx, type(xx), type(ffih)"
   ]
  },
  {
   "cell_type": "code",
   "execution_count": 675,
   "metadata": {
    "collapsed": false
   },
   "outputs": [
    {
     "data": {
      "text/plain": [
       "array([[  0,  10,  40],\n",
       "       [  0,  40, 100],\n",
       "       [  0,  70, 160]])"
      ]
     },
     "execution_count": 675,
     "metadata": {},
     "output_type": "execute_result"
    }
   ],
   "source": [
    "ffih * xx"
   ]
  },
  {
   "cell_type": "code",
   "execution_count": 775,
   "metadata": {
    "collapsed": false
   },
   "outputs": [
    {
     "data": {
      "text/plain": [
       "array([[  0,   0,   0],\n",
       "       [ 30,  40,  50],\n",
       "       [120, 140, 160]])"
      ]
     },
     "execution_count": 775,
     "metadata": {},
     "output_type": "execute_result"
    }
   ],
   "source": [
    "ffih * xx.transpose()"
   ]
  },
  {
   "cell_type": "code",
   "execution_count": null,
   "metadata": {
    "collapsed": false
   },
   "outputs": [],
   "source": []
  },
  {
   "cell_type": "code",
   "execution_count": 779,
   "metadata": {
    "collapsed": false
   },
   "outputs": [],
   "source": [
    "reload(Discrete_Doucet_system)\n",
    "simul  = Discrete_Doucet_system.Simulate(T = T0) \n",
    "\n",
    "dsystem = Discrete_Doucet_system.Discrete_Doucet_system()\n"
   ]
  },
  {
   "cell_type": "code",
   "execution_count": 780,
   "metadata": {
    "collapsed": false
   },
   "outputs": [
    {
     "data": {
      "text/plain": [
       "(numpy.ndarray, numpy.ndarray, numpy.matrixlib.defmatrix.matrix, numpy.ndarray)"
      ]
     },
     "execution_count": 780,
     "metadata": {},
     "output_type": "execute_result"
    }
   ],
   "source": [
    "xdat, pdat, A, B = simul.simulate(dsystem, 50000, stat= True)\n",
    "type(xdat), type(pdat), type(A), type(B)"
   ]
  },
  {
   "cell_type": "code",
   "execution_count": 781,
   "metadata": {
    "collapsed": false
   },
   "outputs": [
    {
     "data": {
      "text/plain": [
       "matrix([[ -2.52855608e-04],\n",
       "        [  5.00225873e-01],\n",
       "        [  2.50122799e+01],\n",
       "        [  6.00207190e+00]])"
      ]
     },
     "execution_count": 781,
     "metadata": {},
     "output_type": "execute_result"
    }
   ],
   "source": [
    "np.linalg.inv(A) * np.matrix(B).transpose()"
   ]
  },
  {
   "cell_type": "code",
   "execution_count": 764,
   "metadata": {
    "collapsed": false
   },
   "outputs": [
    {
     "data": {
      "text/plain": [
       "(4, 50000)"
      ]
     },
     "execution_count": 764,
     "metadata": {},
     "output_type": "execute_result"
    }
   ],
   "source": [
    "dsystem.jacob(xdat).shape"
   ]
  },
  {
   "cell_type": "code",
   "execution_count": 711,
   "metadata": {
    "collapsed": false
   },
   "outputs": [
    {
     "data": {
      "text/plain": [
       "((4, 1000), (4, 3000))"
      ]
     },
     "execution_count": 711,
     "metadata": {},
     "output_type": "execute_result"
    }
   ],
   "source": [
    "xobs,pobs = simul.simulate(dsystem, Nx = 1000)\n",
    "xdat,pdat = simul.simulate(dsystem, Nx = 3000)\n",
    "\n",
    "dsystem.jacob(xobs).shape, dsystem.jacob(xdat).shape"
   ]
  },
  {
   "cell_type": "code",
   "execution_count": 712,
   "metadata": {
    "collapsed": false
   },
   "outputs": [],
   "source": [
    "px = dsystem.compare(xdat, xobs) "
   ]
  },
  {
   "cell_type": "code",
   "execution_count": 713,
   "metadata": {
    "collapsed": false
   },
   "outputs": [
    {
     "data": {
      "text/plain": [
       "[<matplotlib.lines.Line2D at 0x10ccd9bd0>]"
      ]
     },
     "execution_count": 713,
     "metadata": {},
     "output_type": "execute_result"
    },
    {
     "data": {
      "image/png": "[encoded data removed]",
      "text/plain": [
       "<matplotlib.figure.Figure at 0x14f5a3190>"
      ]
     },
     "metadata": {},
     "output_type": "display_data"
    }
   ],
   "source": [
    "xdat_ordered = np.sort(xdat)\n",
    "px_new_ordered = px[np.argsort(xdat)]\n",
    "\n",
    "plt.plot(xdat_ordered, px_new_ordered)"
   ]
  },
  {
   "cell_type": "code",
   "execution_count": 717,
   "metadata": {
    "collapsed": false
   },
   "outputs": [
    {
     "data": {
      "text/plain": [
       "((3000,), (4, 3000), numpy.ndarray, numpy.matrixlib.defmatrix.matrix)"
      ]
     },
     "execution_count": 717,
     "metadata": {},
     "output_type": "execute_result"
    }
   ],
   "source": [
    "px.shape,    dsystem.jacob(xdat).shape,  type(px),  type(dsystem.jacob(xdat))"
   ]
  },
  {
   "cell_type": "code",
   "execution_count": 718,
   "metadata": {
    "collapsed": false
   },
   "outputs": [
    {
     "data": {
      "text/plain": [
       "array([[  3.10260819e-04,   3.05915235e-04,   2.73499221e-04, ...,\n",
       "          3.45752761e-04,   3.49305570e-04,   2.87866250e-04],\n",
       "       [ -3.31142234e-04,   1.96039884e-03,   1.99494550e-03, ...,\n",
       "         -1.74634179e-03,  -1.98413983e-03,  -2.76912074e-03],\n",
       "       [ -1.54801918e-04,   4.66024836e-05,   3.68039305e-05, ...,\n",
       "         -6.58723911e-05,  -5.96462225e-05,  -2.96054349e-05],\n",
       "       [  3.03219038e-04,   8.72235021e-05,   3.05585293e-05, ...,\n",
       "          1.83843135e-04,   1.47121207e-04,  -9.95458825e-05]])"
      ]
     },
     "execution_count": 718,
     "metadata": {},
     "output_type": "execute_result"
    }
   ],
   "source": [
    "np.array(dsystem.jacob(xdat)) * px"
   ]
  },
  {
   "cell_type": "code",
   "execution_count": 807,
   "metadata": {
    "collapsed": false
   },
   "outputs": [
    {
     "data": {
      "text/plain": [
       "(numpy.ndarray, numpy.ndarray, numpy.matrixlib.defmatrix.matrix, numpy.ndarray)"
      ]
     },
     "execution_count": 807,
     "metadata": {},
     "output_type": "execute_result"
    }
   ],
   "source": [
    "reload(Discrete_Doucet_system)\n",
    "dsystem = Discrete_Doucet_system.Discrete_Doucet_system()\n",
    "simul  = Discrete_Doucet_system.Simulate(T = T0) \n",
    "xdat, pdat, A, B = simul.simulate(dsystem, 10000, stat= True)\n",
    "type(xdat), type(pdat), type(A), type(B)"
   ]
  },
  {
   "cell_type": "code",
   "execution_count": 808,
   "metadata": {
    "collapsed": false
   },
   "outputs": [
    {
     "data": {
      "text/plain": [
       "((10000,), (4, 10000))"
      ]
     },
     "execution_count": 808,
     "metadata": {},
     "output_type": "execute_result"
    }
   ],
   "source": [
    "xdat.shape, dsystem.jacob(xdat).shape"
   ]
  },
  {
   "cell_type": "code",
   "execution_count": 809,
   "metadata": {
    "collapsed": false
   },
   "outputs": [],
   "source": [
    "k =1\n",
    "Adashp= np.zeros([len(xdat), R,R])\n",
    "for k in range(0, len(xdat)):\n",
    "    Adashp[k] = dsystem.jacob(xdat)[:,k] *  dsystem.jacob(xdat)[:,k].transpose()\n"
   ]
  },
  {
   "cell_type": "code",
   "execution_count": 811,
   "metadata": {
    "collapsed": false
   },
   "outputs": [
    {
     "data": {
      "text/plain": [
       "(10000, 4, 4)"
      ]
     },
     "execution_count": 811,
     "metadata": {},
     "output_type": "execute_result"
    }
   ],
   "source": [
    "Adashp.shape"
   ]
  },
  {
   "cell_type": "code",
   "execution_count": 812,
   "metadata": {
    "collapsed": false
   },
   "outputs": [
    {
     "data": {
      "text/plain": [
       "(4, 10000)"
      ]
     },
     "execution_count": 812,
     "metadata": {},
     "output_type": "execute_result"
    }
   ],
   "source": [
    "dsystem.jacob(xdat).shape"
   ]
  },
  {
   "cell_type": "code",
   "execution_count": 815,
   "metadata": {
    "collapsed": true
   },
   "outputs": [],
   "source": [
    "test = np.random.normal(0,1,[2,5])"
   ]
  },
  {
   "cell_type": "code",
   "execution_count": 816,
   "metadata": {
    "collapsed": false
   },
   "outputs": [
    {
     "data": {
      "text/plain": [
       "array([[-0.94044165,  0.67042762, -1.02061765, -0.29216306, -0.05932108],\n",
       "       [-0.14430874,  1.50306566,  0.98028087,  1.26324835,  0.06157547]])"
      ]
     },
     "execution_count": 816,
     "metadata": {},
     "output_type": "execute_result"
    }
   ],
   "source": [
    "test"
   ]
  },
  {
   "cell_type": "code",
   "execution_count": 817,
   "metadata": {
    "collapsed": true
   },
   "outputs": [],
   "source": [
    "test1 = transpotest.reshape([5,2,1])\n",
    "test2 = test.reshape([5,1,2])"
   ]
  },
  {
   "cell_type": "code",
   "execution_count": 818,
   "metadata": {
    "collapsed": false
   },
   "outputs": [
    {
     "data": {
      "text/plain": [
       "array([[[-0.94044165],\n",
       "        [ 0.67042762]],\n",
       "\n",
       "       [[-1.02061765],\n",
       "        [-0.29216306]],\n",
       "\n",
       "       [[-0.05932108],\n",
       "        [-0.14430874]],\n",
       "\n",
       "       [[ 1.50306566],\n",
       "        [ 0.98028087]],\n",
       "\n",
       "       [[ 1.26324835],\n",
       "        [ 0.06157547]]])"
      ]
     },
     "execution_count": 818,
     "metadata": {},
     "output_type": "execute_result"
    }
   ],
   "source": [
    "test1"
   ]
  },
  {
   "cell_type": "code",
   "execution_count": null,
   "metadata": {
    "collapsed": true
   },
   "outputs": [],
   "source": []
  }
 ],
 "metadata": {
  "kernelspec": {
   "display_name": "Python 2",
   "language": "python",
   "name": "python2"
  },
  "language_info": {
   "codemirror_mode": {
    "name": "ipython",
    "version": 2
   },
   "file_extension": ".py",
   "mimetype": "text/x-python",
   "name": "python",
   "nbconvert_exporter": "python",
   "pygments_lexer": "ipython2",
   "version": "2.7.10"
  }
 },
 "nbformat": 4,
 "nbformat_minor": 0
}
