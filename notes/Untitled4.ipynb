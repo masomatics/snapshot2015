{
 "cells": [
  {
   "cell_type": "code",
   "execution_count": 30,
   "metadata": {
    "collapsed": false
   },
   "outputs": [
    {
     "data": {
      "text/plain": [
       "<module 'Discrete_Doucet_system' from '../source/Discrete_Doucet_system.py'>"
      ]
     },
     "execution_count": 30,
     "metadata": {},
     "output_type": "execute_result"
    }
   ],
   "source": [
    "import numpy as np\n",
    "import random\n",
    "import scipy as sp\n",
    "from matplotlib import pyplot as plt\n",
    "%matplotlib inline\n",
    "import sys\n",
    "sys.path.append(\"../source\") \n",
    "import Discrete_Doucet_system as dd\n",
    "reload(dd)\n"
   ]
  },
  {
   "cell_type": "code",
   "execution_count": 45,
   "metadata": {
    "collapsed": false
   },
   "outputs": [
    {
     "data": {
      "text/plain": [
       "(array([  14.,    6.,   32.,   29.,   62.,   45.,  103.,   95.,   96.,\n",
       "         141.,  111.,  216.,  195.,  254.,  298.,  370.,  422.,  393.,\n",
       "         470.,  481.,  632.,  465.,  431.,  516.,  373.,  364.,  503.,\n",
       "         385.,  409.,  338.,  405.,  175.,  178.,  165.,  123.,  167.,\n",
       "          80.,  127.,   36.,   68.,   40.,   53.,   53.,   47.,   17.,\n",
       "           0.,    0.,    0.,    0.,   17.]),\n",
       " array([-4.38091082, -4.253641  , -4.12637118, -3.99910136, -3.87183153,\n",
       "        -3.74456171, -3.61729189, -3.49002206, -3.36275224, -3.23548242,\n",
       "        -3.1082126 , -2.98094277, -2.85367295, -2.72640313, -2.59913331,\n",
       "        -2.47186348, -2.34459366, -2.21732384, -2.09005401, -1.96278419,\n",
       "        -1.83551437, -1.70824455, -1.58097472, -1.4537049 , -1.32643508,\n",
       "        -1.19916526, -1.07189543, -0.94462561, -0.81735579, -0.69008596,\n",
       "        -0.56281614, -0.43554632, -0.3082765 , -0.18100667, -0.05373685,\n",
       "         0.07353297,  0.2008028 ,  0.32807262,  0.45534244,  0.58261226,\n",
       "         0.70988209,  0.83715191,  0.96442173,  1.09169155,  1.21896138,\n",
       "         1.3462312 ,  1.47350102,  1.60077085,  1.72804067,  1.85531049,\n",
       "         1.98258031]),\n",
       " <a list of 50 Patch objects>)"
      ]
     },
     "execution_count": 45,
     "metadata": {},
     "output_type": "execute_result"
    },
    {
     "data": {
      "image/png": "[encoded data removed]",
      "text/plain": [
       "<matplotlib.figure.Figure at 0x112bfa050>"
      ]
     },
     "metadata": {},
     "output_type": "display_data"
    }
   ],
   "source": [
    "nxobs = 1000 \n",
    "nxtest = 10000\n",
    "x_original = np.random.normal(-1.5,1,nxobs) \n",
    "x_resample = np.random.choice(x_original, nxtest)\n",
    "plt.subplot(1,2,0)\n",
    "plt.hist(x_original, bins = 50)\n",
    "plt.subplot(1,2,1)\n",
    "plt.hist(x_resample, bins = 50)"
   ]
  },
  {
   "cell_type": "code",
   "execution_count": null,
   "metadata": {
    "collapsed": false
   },
   "outputs": [],
   "source": []
  },
  {
   "cell_type": "code",
   "execution_count": null,
   "metadata": {
    "collapsed": false
   },
   "outputs": [],
   "source": []
  },
  {
   "cell_type": "code",
   "execution_count": null,
   "metadata": {
    "collapsed": true
   },
   "outputs": [],
   "source": []
  }
 ],
 "metadata": {
  "kernelspec": {
   "display_name": "Python 2",
   "language": "python",
   "name": "python2"
  },
  "language_info": {
   "codemirror_mode": {
    "name": "ipython",
    "version": 2
   },
   "file_extension": ".py",
   "mimetype": "text/x-python",
   "name": "python",
   "nbconvert_exporter": "python",
   "pygments_lexer": "ipython2",
   "version": "2.7.10"
  }
 },
 "nbformat": 4,
 "nbformat_minor": 0
}
